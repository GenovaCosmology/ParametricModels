{
 "cells": [
  {
   "cell_type": "code",
   "execution_count": 1,
   "metadata": {},
   "outputs": [],
   "source": [
    "import pymc as pm\n",
    "import numpy as np\n",
    "import matplotlib.pyplot as plt"
   ]
  },
  {
   "cell_type": "code",
   "execution_count": 5,
   "metadata": {},
   "outputs": [],
   "source": [
    "# Supponiamo che il modello sia y ~ Normal(mu, sigma)\n",
    "def model_H(data):\n",
    "    with pm.Model() as model:\n",
    "        mu = pm.Normal(\"mu\", mu=0, sigma=10)\n",
    "        sigma = pm.HalfNormal(\"sigma\", sigma=5)\n",
    "        y_obs = pm.Normal(\"y\", mu=mu, sigma=sigma, observed=data)\n",
    "    return model\n",
    "\n",
    "def discrepancy(y, mu, sigma):\n",
    "    return np.sum((y - mu)**2 / sigma**2)  # tipo chi²"
   ]
  },
  {
   "cell_type": "code",
   "execution_count": 6,
   "metadata": {},
   "outputs": [
    {
     "ename": "NameError",
     "evalue": "name 'y1' is not defined",
     "output_type": "error",
     "traceback": [
      "\u001b[0;31m---------------------------------------------------------------------------\u001b[0m",
      "\u001b[0;31mNameError\u001b[0m                                 Traceback (most recent call last)",
      "Cell \u001b[0;32mIn[6], line 2\u001b[0m\n\u001b[1;32m      1\u001b[0m \u001b[38;5;66;03m# Step 1: campiona posteriore con y1\u001b[39;00m\n\u001b[0;32m----> 2\u001b[0m model1 \u001b[38;5;241m=\u001b[39m model_H(\u001b[43my1\u001b[49m)\n\u001b[1;32m      3\u001b[0m \u001b[38;5;28;01mwith\u001b[39;00m model1:\n\u001b[1;32m      4\u001b[0m     trace1 \u001b[38;5;241m=\u001b[39m pm\u001b[38;5;241m.\u001b[39msample(\u001b[38;5;241m1000\u001b[39m, tune\u001b[38;5;241m=\u001b[39m\u001b[38;5;241m1000\u001b[39m, return_inferencedata\u001b[38;5;241m=\u001b[39m\u001b[38;5;28;01mFalse\u001b[39;00m)\n",
      "\u001b[0;31mNameError\u001b[0m: name 'y1' is not defined"
     ]
    }
   ],
   "source": [
    "# Step 1: campiona posteriore con y1\n",
    "model1 = model_H(y1)\n",
    "with model1:\n",
    "    trace1 = pm.sample(1000, tune=1000, return_inferencedata=False)"
   ]
  },
  {
   "cell_type": "code",
   "execution_count": 2,
   "metadata": {},
   "outputs": [
    {
     "ename": "NameError",
     "evalue": "name 'y1' is not defined",
     "output_type": "error",
     "traceback": [
      "\u001b[0;31m---------------------------------------------------------------------------\u001b[0m",
      "\u001b[0;31mNameError\u001b[0m                                 Traceback (most recent call last)",
      "Cell \u001b[0;32mIn[2], line 11\u001b[0m\n\u001b[1;32m      9\u001b[0m     \u001b[38;5;28;01mreturn\u001b[39;00m np\u001b[38;5;241m.\u001b[39msum((y \u001b[38;5;241m-\u001b[39m mu)\u001b[38;5;241m*\u001b[39m\u001b[38;5;241m*\u001b[39m\u001b[38;5;241m2\u001b[39m \u001b[38;5;241m/\u001b[39m sigma\u001b[38;5;241m*\u001b[39m\u001b[38;5;241m*\u001b[39m\u001b[38;5;241m2\u001b[39m)  \u001b[38;5;66;03m# tipo chi²\u001b[39;00m\n\u001b[1;32m     10\u001b[0m \u001b[38;5;66;03m# Step 1: campiona posteriore con y1\u001b[39;00m\n\u001b[0;32m---> 11\u001b[0m model1 \u001b[38;5;241m=\u001b[39m model_H(\u001b[43my1\u001b[49m)\n\u001b[1;32m     12\u001b[0m \u001b[38;5;28;01mwith\u001b[39;00m model1:\n\u001b[1;32m     13\u001b[0m     trace1 \u001b[38;5;241m=\u001b[39m pm\u001b[38;5;241m.\u001b[39msample(\u001b[38;5;241m1000\u001b[39m, tune\u001b[38;5;241m=\u001b[39m\u001b[38;5;241m1000\u001b[39m, return_inferencedata\u001b[38;5;241m=\u001b[39m\u001b[38;5;28;01mFalse\u001b[39;00m)\n",
      "\u001b[0;31mNameError\u001b[0m: name 'y1' is not defined"
     ]
    }
   ],
   "source": [
    "\n",
    "# Step 2: genera y2_rep usando posterior di y1\n",
    "D_y2_given_y1 = []\n",
    "D_y2rep_given_y1 = []\n",
    "\n",
    "for mu, sigma in zip(trace1[\"mu\"], trace1[\"sigma\"]):\n",
    "    y2_rep = np.random.normal(mu, sigma, size=len(y2))\n",
    "    D_y2 = discrepancy(y2, mu, sigma)\n",
    "    D_y2rep = discrepancy(y2_rep, mu, sigma)\n",
    "    D_y2_given_y1.append(D_y2)\n",
    "    D_y2rep_given_y1.append(D_y2rep)\n",
    "# Step 3: calcola p-value predittiva\n",
    "p_value = np.mean(np.array(D_y2rep_given_y1) > np.array(D_y2_given_y1))\n",
    "print(f\"Posterior predictive p-value of y2 using posterior of y1: {p_value:.3f}\")\n",
    "# Step 4: visualizza\n",
    "plt.hist(D_y2rep_given_y1, bins=30, alpha=0.7, label='D(y2_rep; θ ∼ post(y1))')\n",
    "plt.axvline(np.mean(D_y2_given_y1), color='red', linestyle='--', label='D(y2; θ ∼ post(y1))')\n",
    "plt.legend()\n",
    "plt.title('Posterior Predictive Discrepancy Check')\n",
    "plt.xlabel('Discrepancy')\n",
    "plt.ylabel('Frequency')\n",
    "plt.show()"
   ]
  },
  {
   "cell_type": "code",
   "execution_count": null,
   "metadata": {},
   "outputs": [],
   "source": []
  },
  {
   "cell_type": "code",
   "execution_count": null,
   "metadata": {},
   "outputs": [],
   "source": []
  }
 ],
 "metadata": {
  "kernelspec": {
   "display_name": "BAOFit",
   "language": "python",
   "name": "python3"
  },
  "language_info": {
   "codemirror_mode": {
    "name": "ipython",
    "version": 3
   },
   "file_extension": ".py",
   "mimetype": "text/x-python",
   "name": "python",
   "nbconvert_exporter": "python",
   "pygments_lexer": "ipython3",
   "version": "3.10.13"
  }
 },
 "nbformat": 4,
 "nbformat_minor": 2
}
