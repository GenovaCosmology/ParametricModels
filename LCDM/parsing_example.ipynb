{
 "cells": [
  {
   "cell_type": "code",
   "execution_count": 1,
   "id": "c5dd3ea4",
   "metadata": {},
   "outputs": [
    {
     "name": "stdout",
     "output_type": "stream",
     "text": [
      "Tensiometer version: 1.0.2\n",
      "Tensiometer path: ['/Users/marco/Desktop/IW/ParametricModels/tensiometer/tensiometer']\n"
     ]
    }
   ],
   "source": [
    "# initial imports:\n",
    "import sys, os\n",
    "\n",
    "# tensiometer local imports:\n",
    "here = os.path.dirname(os.getcwd())\n",
    "tensiometer_path = os.path.join(here, 'tensiometer')\n",
    "sys.path.append(tensiometer_path)\n",
    "\n",
    "import tensiometer\n",
    "print('Tensiometer version:', tensiometer.__version__)\n",
    "print('Tensiometer path:', tensiometer.__path__)"
   ]
  },
  {
   "cell_type": "code",
   "execution_count": 2,
   "id": "86967826",
   "metadata": {},
   "outputs": [],
   "source": [
    "# chains paths:\n",
    "\n",
    "chains_dir = os.path.join('chains')"
   ]
  },
  {
   "cell_type": "code",
   "execution_count": 3,
   "id": "8d0059c9",
   "metadata": {},
   "outputs": [],
   "source": [
    "# getdist settings:\n",
    "\n",
    "getdist_settings = {\n",
    "    'smooth_scale_1D': 0.3,\n",
    "    'boundary_correction_order': 1,\n",
    "    'mult_bias_correction_order': 1,\n",
    "    'smooth_scale_2D': 0.3,\n",
    "    }"
   ]
  },
  {
   "cell_type": "code",
   "execution_count": 5,
   "id": "c84010b3",
   "metadata": {},
   "outputs": [
    {
     "name": "stdout",
     "output_type": "stream",
     "text": [
      "01p1_LCDM_BAO_DESIDR2: R = 0.0081\n"
     ]
    }
   ],
   "source": [
    "#import cobaya\n",
    "from cobaya import load_samples\n",
    "from cobaya.model import get_model\n",
    "\n",
    "name = '01p1_LCDM_BAO_DESIDR2'\n",
    "chain = load_samples(os.path.join(chains_dir, name), skip=0.3, to_getdist=True)\n",
    "chain.label = name\n",
    "chain.updateSettings(getdist_settings)\n",
    "chain.updateBaseStatistics()\n",
    "chain.getConvergeTests()\n",
    "print(chain.label+': R =', round(chain.GelmanRubin, 4))"
   ]
  },
  {
   "cell_type": "code",
   "execution_count": null,
   "id": "3e8f298d",
   "metadata": {},
   "outputs": [],
   "source": []
  },
  {
   "cell_type": "code",
   "execution_count": null,
   "id": "23fd62ed",
   "metadata": {},
   "outputs": [],
   "source": []
  },
  {
   "cell_type": "code",
   "execution_count": null,
   "id": "74dbbd00",
   "metadata": {},
   "outputs": [],
   "source": []
  }
 ],
 "metadata": {
  "kernelspec": {
   "display_name": "base",
   "language": "python",
   "name": "python3"
  },
  "language_info": {
   "codemirror_mode": {
    "name": "ipython",
    "version": 3
   },
   "file_extension": ".py",
   "mimetype": "text/x-python",
   "name": "python",
   "nbconvert_exporter": "python",
   "pygments_lexer": "ipython3",
   "version": "3.9.18"
  }
 },
 "nbformat": 4,
 "nbformat_minor": 5
}
