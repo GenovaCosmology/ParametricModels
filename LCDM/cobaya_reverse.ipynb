{
 "cells": [
  {
   "cell_type": "markdown",
   "id": "27d99f71",
   "metadata": {},
   "source": [
    "## Reverse engineer a cobaya likelihood:"
   ]
  },
  {
   "cell_type": "code",
   "execution_count": null,
   "id": "2ac8dbd1",
   "metadata": {},
   "outputs": [],
   "source": [
    "# initial imports:\n",
    "import os, sys\n",
    "import numpy as np\n",
    "import matplotlib.pyplot as plt\n",
    "\n",
    "# cobaya imports:\n",
    "import cobaya\n",
    "print(cobaya.__path__)\n",
    "\n",
    "# local tensiometer imports:"
   ]
  },
  {
   "cell_type": "markdown",
   "id": "4f6827ad",
   "metadata": {},
   "source": [
    "### Initial guess from CAMB output (useful for starting point):"
   ]
  },
  {
   "cell_type": "code",
   "execution_count": null,
   "id": "9675570c",
   "metadata": {},
   "outputs": [],
   "source": [
    "# get a reference power spectrum using CAMB\n",
    "import camb\n",
    "\n",
    "# Set up CAMB parameters using the default values\n",
    "pars = camb.set_params(H0=67.5, ombh2=0.022, omch2=0.122, mnu=0.06, omk=0, tau=0.06, As=2e-9, ns=0.965, halofit_version='mead', lmax=3000)\n",
    "results = camb.get_results(pars)\n",
    "powers = results.get_cmb_power_spectra(pars, CMB_unit='muK')"
   ]
  },
  {
   "cell_type": "code",
   "execution_count": null,
   "id": "40e676dd",
   "metadata": {},
   "outputs": [],
   "source": [
    "ell_max = 29\n",
    "ells = np.arange(2, ell_max)\n",
    "fig, axs = plt.subplots(3, 1, figsize=(8, 10), sharex=True)\n",
    "\n",
    "# TT\n",
    "axs[0].plot(ells, powers['total'][2:ell_max, 0], color='C0')\n",
    "axs[0].set_ylabel(r'$C_\\ell^{TT}$ [$\\mu K^2$]')\n",
    "axs[0].set_title('CMB Power Spectra (CAMB)')\n",
    "axs[0].grid(True)\n",
    "\n",
    "# TE\n",
    "axs[1].plot(ells, powers['total'][2:ell_max, 3], color='C1')\n",
    "axs[1].set_ylabel(r'$C_\\ell^{TE}$ [$\\mu K^2$]')\n",
    "axs[1].grid(True)\n",
    "\n",
    "# EE\n",
    "axs[2].plot(ells, powers['total'][2:ell_max, 1], color='C2')\n",
    "axs[2].set_ylabel(r'$C_\\ell^{EE}$ [$\\mu K^2$]')\n",
    "axs[2].set_xlabel(r'Multipole $\\ell$')\n",
    "axs[2].grid(True)\n",
    "\n",
    "plt.tight_layout()\n",
    "plt.show()"
   ]
  },
  {
   "cell_type": "code",
   "execution_count": null,
   "id": "d5ea3845",
   "metadata": {},
   "outputs": [],
   "source": [
    "reference_TT = powers['total'][0:29, 0]\n",
    "reference_TE = powers['total'][0:29, 3]\n",
    "reference_EE = powers['total'][0:29, 1]\n",
    "reference_dict = {\n",
    "    'ell': list(np.arange(0+1, 29+1).astype(int)),\n",
    "    'tt': reference_TT,\n",
    "    'te': reference_TE,\n",
    "    'ee': reference_EE\n",
    "}"
   ]
  },
  {
   "cell_type": "markdown",
   "id": "714af6cf",
   "metadata": {},
   "source": [
    "### Build the fake model:"
   ]
  },
  {
   "cell_type": "code",
   "execution_count": null,
   "id": "19a28476",
   "metadata": {},
   "outputs": [],
   "source": [
    "# define fake theory:\n",
    "from cobaya.theory import Theory\n",
    "\n",
    "cmb_data_extractor_params = {\n",
    "    'components': ['tt', 'te', 'ee'],\n",
    "    'ell_mins': [2, 2, 2],\n",
    "    'ell_maxes': [29, 29, 29],\n",
    "    'tt_range': [0, 1000],\n",
    "    'te_range': [-10, 10],\n",
    "    'ee_range': [0, 0.1],\n",
    "    }\n",
    "\n",
    "cmb_data_extractor_params_tt = {\n",
    "    'components': ['tt'],\n",
    "    'ell_mins': [2],\n",
    "    'ell_maxes': [29],\n",
    "    'tt_range': [0, 1000],\n",
    "    'te_range': [-10, 10],\n",
    "    'ee_range': [0, 0.1],\n",
    "    }\n",
    "\n",
    "def params_for_cmb_data_extractor(params, reference=None):\n",
    "    params_priors = {}\n",
    "    for _c in params['components']:\n",
    "        for i in range(params['ell_mins'][params['components'].index(_c)]):\n",
    "            params_priors[f'Cl{_c.upper()}_{i}'] = {\n",
    "                'value': 0.0,\n",
    "            }\n",
    "        for i in range(params['ell_mins'][params['components'].index(_c)],\n",
    "                       params['ell_maxes'][params['components'].index(_c)] + 1):\n",
    "            _min = params[f'{_c}_range'][0]\n",
    "            _max = params[f'{_c}_range'][1]\n",
    "            if reference is not None:\n",
    "                _idx = reference['ell'].index(i)\n",
    "                _proposal = np.std(reference[_c])\n",
    "                _center = reference[_c][_idx]\n",
    "            else:\n",
    "                _proposal = (_max - _min) / 100.0\n",
    "                _center = (_max + _min) / 2.0\n",
    "            params_priors[f'Cl{_c.upper()}_{i}'] = {\n",
    "                'prior': {'min': _min, 'max': _max},\n",
    "                'proposal': _proposal,\n",
    "                'ref': _center,\n",
    "            }\n",
    "    return params_priors\n",
    "\n",
    "class CMBDataExtractor(Theory):\n",
    "\n",
    "    def initialize(self):\n",
    "        \"\"\"called from __init__ to initialize\"\"\"\n",
    "        self.params = {}\n",
    "\n",
    "    def initialize_with_provider(self, provider):\n",
    "        \"\"\"\n",
    "        Initialization after other components initialized, using Provider class\n",
    "        instance which is used to return any dependencies (see calculate below).\n",
    "        \"\"\"\n",
    "        self.provider = provider\n",
    "\n",
    "    def get_can_provide(self):\n",
    "        return ['Cl']\n",
    "    \n",
    "    def get_requirements(self):\n",
    "        _requirements = []\n",
    "        for _c in self.components:\n",
    "            for i in range(self.ell_mins[self.components.index(_c)]):\n",
    "                _requirements.append(f'Cl{_c.upper()}_{i}')\n",
    "            for i in range(self.ell_mins[self.components.index(_c)],\n",
    "                            self.ell_maxes[self.components.index(_c)] + 1):\n",
    "                 _requirements.append(f'Cl{_c.upper()}_{i}')\n",
    "        return _requirements\n",
    "\n",
    "    def must_provide(self, **requirements):\n",
    "        if 'Cl' in requirements:\n",
    "            if not hasattr(self, 'components'):\n",
    "                raise ValueError(\"CMBDataExtractor must provide 'components' attribute\")\n",
    "            if 'tt' in requirements['Cl'] and not 'tt' in self.components:\n",
    "                raise ValueError(\"CMBDataExtractor must provide 'tt' component\")\n",
    "            if 'te' in requirements['Cl'] and not 'te' in self.components:\n",
    "                raise ValueError(\"CMBDataExtractor must provide 'te' component\")\n",
    "            if 'ee' in requirements['Cl'] and not 'ee' in self.components:\n",
    "                raise ValueError(\"CMBDataExtractor must provide 'ee' component\")\n",
    "    \n",
    "    def calculate(self, state, want_derived=True, **params_values_dict):\n",
    "        state['Cl'] = {}\n",
    "        for _c in self.components:\n",
    "            state['Cl'][_c] = []\n",
    "            for i in range(self.ell_mins[self.components.index(_c)]):\n",
    "                state['Cl'][_c].append(params_values_dict[f'Cl{_c.upper()}_{i}'])\n",
    "            for i in range(self.ell_mins[self.components.index(_c)],\n",
    "                           self.ell_maxes[self.components.index(_c)] + 1):\n",
    "                state['Cl'][_c].append(params_values_dict[f'Cl{_c.upper()}_{i}'])\n",
    "            state['Cl'][_c] = np.array(state['Cl'][_c])\n",
    "                \n",
    "    def get_Cl(self, ell_factor=False):\n",
    "        return self.current_state['Cl']"
   ]
  },
  {
   "cell_type": "markdown",
   "id": "629a64c4",
   "metadata": {},
   "source": [
    "### CMB TT:"
   ]
  },
  {
   "cell_type": "code",
   "execution_count": null,
   "id": "aae0b909",
   "metadata": {},
   "outputs": [],
   "source": [
    "# define parameters (in this case the BAO)\n",
    "params = {\n",
    "    \"debug\": False,\n",
    "    \"theory\": {'CMBDataExtractor': CMBDataExtractor(cmb_data_extractor_params_tt)},\n",
    "    \"likelihood\": {\"planck_2018_lowl.TT\": None},\n",
    "    \"params\": params_for_cmb_data_extractor(cmb_data_extractor_params_tt),\n",
    "    \"sampler\": {\"mcmc\": None}\n",
    "}\n"
   ]
  },
  {
   "cell_type": "code",
   "execution_count": null,
   "id": "530603d1",
   "metadata": {},
   "outputs": [],
   "source": [
    "# rebuild the model:\n",
    "from cobaya.model import get_model\n",
    "# build the model:\n",
    "model = get_model(params)"
   ]
  },
  {
   "cell_type": "code",
   "execution_count": null,
   "id": "17d97d73",
   "metadata": {},
   "outputs": [],
   "source": [
    "from cobaya.run import run\n",
    "\n",
    "updated_info, sampler = run(params)"
   ]
  },
  {
   "cell_type": "code",
   "execution_count": null,
   "id": "c7f4d279",
   "metadata": {},
   "outputs": [],
   "source": [
    "# getdist samples:\n",
    "gd_sample = sampler.products(to_getdist=True, skip_samples=0.3)[\"sample\"]"
   ]
  },
  {
   "cell_type": "code",
   "execution_count": null,
   "id": "7f5966e7",
   "metadata": {},
   "outputs": [],
   "source": [
    "# Extract means and standard deviations from the covariance matrix\n",
    "means = gd_sample.means[0:28]\n",
    "stds = np.sqrt(np.diag(gd_sample.fullcov))[0:28]\n",
    "\n",
    "plt.errorbar(range(2, 30), means, yerr=stds, fmt='o', label='mean ± 1σ')\n",
    "plt.xlabel(r'Multipole $\\ell$')\n",
    "plt.ylabel(r'$C_\\ell^{TT}$ [$\\mu K^2$]')\n",
    "plt.legend()\n",
    "plt.show()"
   ]
  },
  {
   "cell_type": "code",
   "execution_count": null,
   "id": "3fdb3832",
   "metadata": {},
   "outputs": [],
   "source": [
    "# save out GLM quantities:"
   ]
  }
 ],
 "metadata": {
  "kernelspec": {
   "display_name": "base",
   "language": "python",
   "name": "python3"
  },
  "language_info": {
   "codemirror_mode": {
    "name": "ipython",
    "version": 3
   },
   "file_extension": ".py",
   "mimetype": "text/x-python",
   "name": "python",
   "nbconvert_exporter": "python",
   "pygments_lexer": "ipython3",
   "version": "3.9.18"
  }
 },
 "nbformat": 4,
 "nbformat_minor": 5
}
