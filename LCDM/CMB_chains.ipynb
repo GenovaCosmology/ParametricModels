{
 "cells": [
  {
   "cell_type": "code",
   "execution_count": 23,
   "id": "5f529357",
   "metadata": {},
   "outputs": [],
   "source": [
    "# install tensiometer\n",
    "# install camb\n",
    "# install getdist\n",
    "# install cobaya\n",
    "# install bilby"
   ]
  },
  {
   "cell_type": "code",
   "execution_count": 24,
   "id": "e1bc1f3a",
   "metadata": {},
   "outputs": [],
   "source": [
    "import matplotlib as mpl\n",
    "import os\n",
    "import matplotlib.pyplot as plt\n",
    "\n",
    "os.environ['PATH'] = r'/farmdisk1/cosmology/Libraries/texlive/2024/bin/x86_64-linux' #+ os.environ['PATH']\n",
    "# Enable LaTeX in Matplotlib\n",
    "plt.rc('text', usetex=True)\n",
    "plt.rc('font', family='serif')\n",
    "plt.rc('font', serif='Computer Modern Roman')\n",
    "mpl.rcParams['text.latex.preamble'] = r'''\n",
    "    \\usepackage{amsmath}  % Se necessario\n",
    "    \\newcommand{\\sfont}[1]{{\\scriptscriptstyle\\rm #1}}  % Definizione di \\sfont\n",
    "'''"
   ]
  },
  {
   "cell_type": "code",
   "execution_count": 25,
   "id": "c5dd3ea4",
   "metadata": {},
   "outputs": [
    {
     "name": "stdout",
     "output_type": "stream",
     "text": [
      "Tensiometer version: 1.0.2\n",
      "Tensiometer path: ['/farmdisk1/emaragliano/miniconda3/envs/cobaya_env/lib/python3.10/site-packages/tensiometer']\n"
     ]
    }
   ],
   "source": [
    "# initial imports:\n",
    "import sys, os\n",
    "import matplotlib.pyplot as plt\n",
    "\n",
    "# getdist imports:\n",
    "from getdist import plots, MCSamples\n",
    "\n",
    "# tensiometer local imports:\n",
    "here = os.path.dirname(os.getcwd())\n",
    "tensiometer_path = os.path.join(here, 'tensiometer')\n",
    "sys.path.append(tensiometer_path)\n",
    "\n",
    "import tensiometer\n",
    "print('Tensiometer version:', tensiometer.__version__)\n",
    "print('Tensiometer path:', tensiometer.__path__)"
   ]
  },
  {
   "cell_type": "code",
   "execution_count": 26,
   "id": "86967826",
   "metadata": {},
   "outputs": [],
   "source": [
    "# chains paths:\n",
    "\n",
    "chains_dir = os.path.join('chains')"
   ]
  },
  {
   "cell_type": "code",
   "execution_count": 27,
   "id": "8d0059c9",
   "metadata": {},
   "outputs": [],
   "source": [
    "# getdist settings:\n",
    "\n",
    "getdist_settings = {\n",
    "    'smooth_scale_1D': 0.3,\n",
    "    'smooth_scale_2D': 0.4,\n",
    "    'boundary_correction_order': 1,\n",
    "    'mult_bias_correction_order': 1,\n",
    "    }"
   ]
  },
  {
   "cell_type": "code",
   "execution_count": 28,
   "id": "c84010b3",
   "metadata": {},
   "outputs": [
    {
     "name": "stdout",
     "output_type": "stream",
     "text": [
      "Planck TTTEEE: R = 0.0079\n",
      "ACT TTTEEE: R = 0.0113\n",
      "Planck lowl: R = 0.0108\n",
      "Planck TTTEEE + ACT TTTEEE + lowl: R = 0.0108\n"
     ]
    }
   ],
   "source": [
    "# import chain from the CMB\n",
    "from cobaya import load_samples\n",
    "\n",
    "name = '01p2_LCDM_CMB_PlanckTTTEEE'\n",
    "chain_PlanckTTTEEE = load_samples(os.path.join(chains_dir, name), skip=0.3, to_getdist=True)\n",
    "chain_PlanckTTTEEE.label = 'Planck TTTEEE'\n",
    "chain_PlanckTTTEEE.root = os.path.join(chains_dir, name)\n",
    "chain_PlanckTTTEEE.updateSettings(getdist_settings)\n",
    "chain_PlanckTTTEEE.updateBaseStatistics()\n",
    "chain_PlanckTTTEEE.getConvergeTests()\n",
    "print(chain_PlanckTTTEEE.label+': R =', round(chain_PlanckTTTEEE.GelmanRubin, 4))\n",
    "\n",
    "name = '01p3_LCDM_CMB_ACTTTTEEE'\n",
    "chain_ACTTTTEEE = load_samples(os.path.join(chains_dir, name), skip=0.3, to_getdist=True)\n",
    "chain_ACTTTTEEE.label = 'ACT TTTEEE'\n",
    "chain_ACTTTTEEE.root = os.path.join(chains_dir, name)\n",
    "chain_ACTTTTEEE.updateSettings(getdist_settings)\n",
    "chain_ACTTTTEEE.updateBaseStatistics()\n",
    "chain_ACTTTTEEE.getConvergeTests()\n",
    "print(chain_ACTTTTEEE.label+': R =', round(chain_ACTTTTEEE.GelmanRubin, 4))\n",
    "\n",
    "name = '01p4_LCDM_CMB_lowl'\n",
    "chain_CMB_lowl = load_samples(os.path.join(chains_dir, name), skip=0.3, to_getdist=True)\n",
    "chain_CMB_lowl.label = 'Planck lowl'\n",
    "chain_CMB_lowl.root = os.path.join(chains_dir, name)\n",
    "chain_CMB_lowl.updateSettings(getdist_settings)\n",
    "chain_CMB_lowl.updateBaseStatistics()\n",
    "chain_CMB_lowl.getConvergeTests()\n",
    "print(chain_CMB_lowl.label+': R =', round(chain_CMB_lowl.GelmanRubin, 4))\n",
    "\n",
    "name = '02p2_LCDM_CMB_all'\n",
    "chain_CMB_all = load_samples(os.path.join(chains_dir, name), skip=0.3, to_getdist=True)\n",
    "chain_CMB_all.label = 'Planck TTTEEE + ACT TTTEEE + lowl'\n",
    "chain_CMB_all.root = os.path.join(chains_dir, name)\n",
    "chain_CMB_all.updateSettings(getdist_settings)\n",
    "chain_CMB_all.updateBaseStatistics()\n",
    "chain_CMB_all.getConvergeTests()\n",
    "print(chain_CMB_all.label+': R =', round(chain_CMB_all.GelmanRubin, 4))"
   ]
  },
  {
   "cell_type": "code",
   "execution_count": 30,
   "id": "67535eb1",
   "metadata": {},
   "outputs": [
    {
     "name": "stdout",
     "output_type": "stream",
     "text": [
      "BAO DESI DR2: R = 0.0081\n"
     ]
    }
   ],
   "source": [
    "#import BAO chain\n",
    "\n",
    "name = '01p1_LCDM_BAO_DESIDR2'\n",
    "chain_DESI_DR2 = load_samples(os.path.join(chains_dir, name), skip=0.3, to_getdist=True)\n",
    "chain_DESI_DR2.label = 'BAO DESI DR2'\n",
    "chain_DESI_DR2.root = os.path.join(chains_dir, name)\n",
    "chain_DESI_DR2.updateSettings(getdist_settings)\n",
    "chain_DESI_DR2.updateBaseStatistics()\n",
    "chain_DESI_DR2.getConvergeTests()\n",
    "print(chain_DESI_DR2.label+': R =', round(chain_DESI_DR2.GelmanRubin, 4))\n"
   ]
  },
  {
   "cell_type": "code",
   "execution_count": 31,
   "id": "acf4619e",
   "metadata": {},
   "outputs": [
    {
     "name": "stderr",
     "output_type": "stream",
     "text": [
      "WARNING:root:outlier fraction 0.00011587485515643106 \n",
      "WARNING:root:outlier fraction 0.00011587485515643106 \n",
      "WARNING:root:outlier fraction 0.00011587485515643106 \n"
     ]
    },
    {
     "name": "stdout",
     "output_type": "stream",
     "text": [
      "SN DES Y5: R = 0.0098\n"
     ]
    }
   ],
   "source": [
    "# SN DES Y5\n",
    "\n",
    "name = '01p5_LCDM_SN_DESY5'\n",
    "chain_SN_DESY5 = load_samples(os.path.join(chains_dir, name), skip=0.3, to_getdist=True)\n",
    "chain_SN_DESY5.label = 'SN DES Y5'\n",
    "chain_SN_DESY5.root = os.path.join(chains_dir, name)\n",
    "chain_SN_DESY5.updateSettings(getdist_settings)\n",
    "chain_SN_DESY5.updateBaseStatistics()\n",
    "chain_SN_DESY5.getConvergeTests()\n",
    "print(chain_SN_DESY5.label+': R =', round(chain_SN_DESY5.GelmanRubin, 4))\n"
   ]
  },
  {
   "cell_type": "code",
   "execution_count": 32,
   "id": "952284b8",
   "metadata": {},
   "outputs": [
    {
     "name": "stdout",
     "output_type": "stream",
     "text": [
      "CMB + BAO: R = 0.0074\n"
     ]
    }
   ],
   "source": [
    "# CMB + BAO\n",
    "\n",
    "name = '03p1_LCDM_CMB_BAO'\n",
    "chain_CMB_BAO = load_samples(os.path.join(chains_dir, name), skip=0.3, to_getdist=True)\n",
    "chain_CMB_BAO.label = 'CMB + BAO'\n",
    "chain_CMB_BAO.root = os.path.join(chains_dir, name)\n",
    "chain_CMB_BAO.updateSettings(getdist_settings)\n",
    "chain_CMB_BAO.updateBaseStatistics()\n",
    "chain_CMB_BAO.getConvergeTests()\n",
    "print(chain_CMB_BAO.label+': R =', round(chain_CMB_BAO.GelmanRubin, 4))\n"
   ]
  },
  {
   "cell_type": "code",
   "execution_count": 33,
   "id": "196a3d70",
   "metadata": {},
   "outputs": [
    {
     "name": "stdout",
     "output_type": "stream",
     "text": [
      "CMB + BAO + SN: R = 0.0085\n"
     ]
    }
   ],
   "source": [
    "# CMB + BAO + SN\n",
    "\n",
    "name = '04p1_LCDM_CMB_BAO_SN'\n",
    "chain_CMB_BAO_SN = load_samples(os.path.join(chains_dir, name), skip=0.3, to_getdist=True)\n",
    "chain_CMB_BAO_SN.label = 'CMB + BAO + SN'\n",
    "chain_CMB_BAO_SN.root = os.path.join(chains_dir, name)\n",
    "chain_CMB_BAO_SN.updateSettings(getdist_settings)\n",
    "chain_CMB_BAO_SN.updateBaseStatistics()\n",
    "chain_CMB_BAO_SN.getConvergeTests()\n",
    "print(chain_CMB_BAO_SN.label+': R =', round(chain_CMB_BAO_SN.GelmanRubin, 4))\n"
   ]
  },
  {
   "cell_type": "code",
   "execution_count": 34,
   "id": "26d74dc8",
   "metadata": {},
   "outputs": [
    {
     "data": {
      "text/plain": [
       "['H0',\n",
       " 'logA',\n",
       " 'ns',\n",
       " 'ombh2',\n",
       " 'omch2',\n",
       " 'tau',\n",
       " 'A_planck',\n",
       " 'A',\n",
       " 'As',\n",
       " 'DHBBN',\n",
       " 'YHe',\n",
       " 'Y_p',\n",
       " 'age',\n",
       " 'clamp',\n",
       " 'omega_de',\n",
       " 'omegam',\n",
       " 'omegamh2',\n",
       " 'rdrag',\n",
       " 's8h5',\n",
       " 'S8',\n",
       " 'S8_optimal',\n",
       " 's8omegamp25',\n",
       " 'sigma8',\n",
       " 'thetastar',\n",
       " 'zrei',\n",
       " 'chi2__CMB',\n",
       " 'minuslogprior',\n",
       " 'minuslogprior__0',\n",
       " 'chi2',\n",
       " 'chi2__act_dr6_cmbonly.PlanckActCut']"
      ]
     },
     "execution_count": 34,
     "metadata": {},
     "output_type": "execute_result"
    }
   ],
   "source": [
    "chain_PlanckTTTEEE.getParamNames().list()"
   ]
  },
  {
   "cell_type": "markdown",
   "id": "945ddd44",
   "metadata": {},
   "source": [
    "All LCDM parameters"
   ]
  },
  {
   "cell_type": "code",
   "execution_count": 37,
   "id": "58b51bfa",
   "metadata": {},
   "outputs": [],
   "source": [
    "g = plots.get_subplot_plotter()\n",
    "g.settings.axes_fontsize = 15\n",
    "g.settings.legend_fontsize = 16\n",
    "g.settings.linewidth = 2.0\n",
    "getdist_settings['smooth_scale_1D'] = 0.3\n",
    "getdist_settings['smooth_scale_2D'] = 0.3\n",
    "chain_PlanckTTTEEE.updateSettings(getdist_settings)\n",
    "chain_PlanckTTTEEE.updateBaseStatistics()\n",
    "\n",
    "g.triangle_plot(\n",
    "    [chain_PlanckTTTEEE, chain_ACTTTTEEE, chain_CMB_all, chain_CMB_BAO_SN],\n",
    "    params=['H0','logA',  'ns','ombh2','omch2','tau'],\n",
    "    filled=True,\n",
    ")\n",
    "\n",
    "g.export('plots/LCDM_triangle_plot_all_probes.pdf', dpi=300)\n",
    "\n",
    "    "
   ]
  },
  {
   "cell_type": "code",
   "execution_count": null,
   "id": "f2600165",
   "metadata": {},
   "outputs": [],
   "source": [
    "#model.__dict__"
   ]
  },
  {
   "cell_type": "code",
   "execution_count": null,
   "id": "c14448f1",
   "metadata": {},
   "outputs": [],
   "source": []
  },
  {
   "cell_type": "code",
   "execution_count": null,
   "id": "43e8d3ed",
   "metadata": {},
   "outputs": [],
   "source": []
  }
 ],
 "metadata": {
  "kernelspec": {
   "display_name": "base",
   "language": "python",
   "name": "python3"
  },
  "language_info": {
   "codemirror_mode": {
    "name": "ipython",
    "version": 3
   },
   "file_extension": ".py",
   "mimetype": "text/x-python",
   "name": "python",
   "nbconvert_exporter": "python",
   "pygments_lexer": "ipython3",
   "version": "3.10.13"
  }
 },
 "nbformat": 4,
 "nbformat_minor": 5
}
