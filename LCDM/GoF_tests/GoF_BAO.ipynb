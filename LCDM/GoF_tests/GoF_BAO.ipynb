{
 "cells": [
  {
   "cell_type": "code",
   "execution_count": 1,
   "id": "34338330",
   "metadata": {},
   "outputs": [],
   "source": [
    "import numpy as np\n",
    "import matplotlib.pyplot as plt\n",
    "from astropy.io import fits\n",
    "from scipy.io import FortranFile\n",
    "from cobaya.model import get_model\n",
    "import yaml\n",
    "import os\n",
    "from getdist import plots, MCSamples\n",
    "from cobaya.conventions import Const, packages_path_input\n",
    "from scipy.optimize import minimize\n",
    "from scipy.optimize import differential_evolution"
   ]
  },
  {
   "cell_type": "code",
   "execution_count": 2,
   "id": "7c5b7e24",
   "metadata": {},
   "outputs": [],
   "source": [
    "path_GLM_data = '../GLM_data/'"
   ]
  },
  {
   "cell_type": "code",
   "execution_count": 3,
   "id": "b7d50477",
   "metadata": {},
   "outputs": [],
   "source": [
    "\n",
    "getdist_settings = {\n",
    "    'smooth_scale_1D': 0.3,\n",
    "    'smooth_scale_2D': 0.4,\n",
    "    'boundary_correction_order': 1,\n",
    "    'mult_bias_correction_order': 1,\n",
    "    }\n"
   ]
  },
  {
   "cell_type": "markdown",
   "id": "4f96f6c7",
   "metadata": {},
   "source": [
    "# BAO"
   ]
  },
  {
   "cell_type": "code",
   "execution_count": 4,
   "id": "d9eaa74b",
   "metadata": {},
   "outputs": [
    {
     "name": "stdout",
     "output_type": "stream",
     "text": [
      "Removed \"max_zrei\" from the \"camb\" extra_args in the YAML parameters file.\n",
      "[model] *WARNING* Ignored blocks/options: ['sampler', 'output']\n"
     ]
    },
    {
     "name": "stdout",
     "output_type": "stream",
     "text": [
      "[camb] `camb` module loaded successfully from /home/afarina/anaconda3/envs/nbase/lib/python3.12/site-packages/camb\n",
      "[bao.desi_dr2.desi_bao_all] Initialized.\n"
     ]
    }
   ],
   "source": [
    "yaml_path = \"../chains/01p1_LCDM_BAO_DESIDR2.input.yaml\"\n",
    "\n",
    "# define the path to the YAML parameters file:\n",
    "yaml_params = yaml_path #os.path.join(chains_dir, name + '.input.yaml')\n",
    "# load the parameters from the YAML file:\n",
    "with open(yaml_params, 'r') as f:\n",
    "    params_dict = yaml.safe_load(f)\n",
    "# remove the 'path' key from the 'camb' dictionary if it exists:\n",
    "if 'path' in params_dict.get('theory', {}).get('camb', {}):\n",
    "    del params_dict['theory']['camb']['path']\n",
    "if 'recombination_model' in params_dict.get('theory', {}).get('camb', {}).get('extra_args', {}):\n",
    "    del params_dict['theory']['camb']['extra_args']['recombination_model']\n",
    "if 'max_zrei'in params_dict.get('theory', {}).get('camb', {}).get('extra_args', {}):\n",
    "    del params_dict['theory']['camb']['extra_args']['max_zrei']\n",
    "    print('Removed \"max_zrei\" from the \"camb\" extra_args in the YAML parameters file.')\n",
    "# build the model:\n",
    "model = get_model(params_dict)"
   ]
  },
  {
   "cell_type": "code",
   "execution_count": 5,
   "id": "25353f34",
   "metadata": {},
   "outputs": [
    {
     "name": "stdout",
     "output_type": "stream",
     "text": [
      "[samplecollection] Loaded 4340 sample points from '../chains/01p1_LCDM_BAO_DESIDR2.1.txt'\n"
     ]
    },
    {
     "name": "stdout",
     "output_type": "stream",
     "text": [
      "[samplecollection] Loaded 3987 sample points from '../chains/01p1_LCDM_BAO_DESIDR2.2.txt'\n",
      "[samplecollection] Loaded 4246 sample points from '../chains/01p1_LCDM_BAO_DESIDR2.3.txt'\n",
      "[samplecollection] Loaded 4264 sample points from '../chains/01p1_LCDM_BAO_DESIDR2.4.txt'\n",
      "01p1_LCDM_BAO_DESIDR2: R = 0.0081\n"
     ]
    }
   ],
   "source": [
    "chains_dir = os.path.join('../chains/')\n",
    "\n",
    "# import chain\n",
    "from cobaya import load_samples\n",
    "\n",
    "name = '01p1_LCDM_BAO_DESIDR2'\n",
    "chain = load_samples(os.path.join(chains_dir, name), skip=0.3, to_getdist=True)\n",
    "chain.label = name\n",
    "chain.root = os.path.join(chains_dir, name)\n",
    "chain.updateSettings(getdist_settings)\n",
    "chain.updateBaseStatistics()\n",
    "chain.getConvergeTests()\n",
    "print(chain.label+': R =', round(chain.GelmanRubin, 4))\n",
    "\n",
    "\n",
    "BestFit = chain.getBestFit()\n",
    "BestFitDict = BestFit.getParamDict()\n",
    "\n",
    "params = model.parameterization.sampled_params()\n",
    "for p in params.keys():\n",
    "    params[p] = BestFitDict[p]  # Set the best fit values for all parameters\n",
    "\n",
    "params_values = np.array([params[p] for p in params.keys()])\n",
    "params_names = np.array(list(params.keys()))"
   ]
  },
  {
   "cell_type": "code",
   "execution_count": null,
   "id": "07950b21",
   "metadata": {},
   "outputs": [],
   "source": []
  },
  {
   "cell_type": "markdown",
   "id": "faab1ecb",
   "metadata": {},
   "source": [
    "### Obtaining Covariance matrix "
   ]
  },
  {
   "cell_type": "code",
   "execution_count": 6,
   "id": "31357823",
   "metadata": {},
   "outputs": [
    {
     "name": "stdout",
     "output_type": "stream",
     "text": [
      "[samplecollection] Loaded 350 sample points from '../chains/01p1_LCDM_BAO_DESIDR2.prior.1.txt'\n",
      "[samplecollection] Loaded 350 sample points from '../chains/01p1_LCDM_BAO_DESIDR2.prior.2.txt'\n",
      "[samplecollection] Loaded 350 sample points from '../chains/01p1_LCDM_BAO_DESIDR2.prior.3.txt'\n",
      "[samplecollection] Loaded 350 sample points from '../chains/01p1_LCDM_BAO_DESIDR2.prior.4.txt'\n"
     ]
    },
    {
     "name": "stdout",
     "output_type": "stream",
     "text": [
      "01p1_LCDM_BAO_DESIDR2.prior: R = 0.0058\n"
     ]
    }
   ],
   "source": [
    "# Load the covariance matrix from the data\n",
    "cov_data =  np.load(path_GLM_data + \"cov_data_BAO.npy\")\n",
    "# Load the posterior covariance matrix from the file in the chains\n",
    "# cov_posterior = np.loadtxt('../chains/LCDM/01p1_LCDM_BAO_DESIDR2.covmat')\n",
    "cov_posterior = np.loadtxt('../chains/01p1_LCDM_BAO_DESIDR2.covmat')\n",
    "\n",
    "\n",
    "# import chain for the prior and then extract the covariance matrix\n",
    "chains_dir = os.path.join('../chains')\n",
    "from cobaya import load_samples\n",
    "name = '01p1_LCDM_BAO_DESIDR2.prior'\n",
    "chain_prior = load_samples(os.path.join(chains_dir, name), skip=0.3, to_getdist=True)\n",
    "chain_prior.label = name\n",
    "chain_prior.root = os.path.join(chains_dir, name)\n",
    "chain_prior.updateSettings(getdist_settings)\n",
    "chain_prior.updateBaseStatistics()\n",
    "chain_prior.getConvergeTests()\n",
    "print(chain_prior.label+': R =', round(chain_prior.GelmanRubin, 4))\n",
    "# Extract the parameter names.\n",
    "param_names = list(params.keys())\n",
    "\n",
    "cov_prior = chain.cov(pars=param_names)\n"
   ]
  },
  {
   "cell_type": "markdown",
   "id": "7b54d111",
   "metadata": {},
   "source": [
    "## jacobian computation"
   ]
  },
  {
   "cell_type": "code",
   "execution_count": 7,
   "id": "cfc9d79b",
   "metadata": {},
   "outputs": [],
   "source": [
    "# This is necessary to initialize the model and its components\n",
    "model.loglike(params, return_derived=False) \n",
    "# Get the model prediction for the data\n",
    "temp = model.components[0]\n",
    "model_pred = np.array([temp.theory_fun(z,obs) for z,obs in zip(temp.data['z'], temp.data['observable'])]).T[0]\n",
    "#site-packages/cobaya/likelihoods/base_classes/BAO.py:line 345"
   ]
  },
  {
   "cell_type": "code",
   "execution_count": 8,
   "id": "f12eb851",
   "metadata": {},
   "outputs": [],
   "source": [
    "x_obs = temp.data['value'].values"
   ]
  },
  {
   "cell_type": "code",
   "execution_count": null,
   "id": "e1fc7d08",
   "metadata": {},
   "outputs": [],
   "source": []
  },
  {
   "cell_type": "code",
   "execution_count": 9,
   "id": "0786fe10",
   "metadata": {},
   "outputs": [],
   "source": [
    "# Compute the Jacobian numerically using finite differences on the model predictions.\n",
    "scale=0.01\n",
    "jacobian = np.zeros((len(temp.data['value']), len(params)))\n",
    "for i, p in enumerate(params.keys()):\n",
    "    param_perturbed_plus = params.copy()  # Create a copy of the parameters\n",
    "    param_perturbed_minus = params.copy()  # Create a copy of the parameters\n",
    "\n",
    "    param_perturbed_plus[p] *= 1 + scale  # Perturb the parameter\n",
    "    param_perturbed_minus[p] *= 1 - scale  # Perturb the parameter\n",
    "\n",
    "    model.loglike(param_perturbed_minus, return_derived=False)\n",
    "    temp = model.components[0]\n",
    "    model_pred_minus = np.array([temp.theory_fun(z,obs) for z,obs in zip(temp.data['z'], temp.data['observable'])]).T[0]\n",
    "\n",
    "\n",
    "    model.loglike(param_perturbed_plus, return_derived=False)\n",
    "    temp = model.components[0]\n",
    "    model_pred_plus = np.array([temp.theory_fun(z,obs) for z,obs in zip(temp.data['z'], temp.data['observable'])]).T[0]\n",
    "\n",
    "\n",
    "    jacobian[:, i] = (model_pred_plus - model_pred_minus) / (param_perturbed_plus[p] - param_perturbed_minus[p]) / 2  # Numerical derivative  "
   ]
  },
  {
   "cell_type": "code",
   "execution_count": 10,
   "id": "0cafa54d",
   "metadata": {},
   "outputs": [
    {
     "name": "stdout",
     "output_type": "stream",
     "text": [
      "is the jacobian full rank? \n",
      " \n",
      " False\n"
     ]
    }
   ],
   "source": [
    "full_rank_ = np.linalg.matrix_rank(jacobian) == np.min(np.shape(jacobian))\n",
    "\n",
    "print('is the jacobian full rank?', '\\n', '\\n', full_rank_  )"
   ]
  },
  {
   "cell_type": "code",
   "execution_count": 11,
   "id": "b1026d1b",
   "metadata": {},
   "outputs": [],
   "source": [
    "# We need to ensure that the Jacobian is not singular, so we add a small numerical errors to the diagonal if necessary.\n",
    "jacobian_fixed = np.copy(jacobian)\n",
    "for i in range(len(params.keys())):\n",
    "    if np.all(jacobian_fixed[:,i]== np.zeros((13))):\n",
    "        jacobian_fixed[i,i]=10**(-2)\n"
   ]
  },
  {
   "cell_type": "code",
   "execution_count": 12,
   "id": "0b1b3ff4",
   "metadata": {},
   "outputs": [
    {
     "data": {
      "text/plain": [
       "<matplotlib.colorbar.Colorbar at 0x7f0162665310>"
      ]
     },
     "execution_count": 12,
     "metadata": {},
     "output_type": "execute_result"
    },
    {
     "data": {
      "image/png": "[encoded data removed]",
      "text/plain": [
       "<Figure size 640x480 with 2 Axes>"
      ]
     },
     "metadata": {},
     "output_type": "display_data"
    }
   ],
   "source": [
    "# Computing M_tilde and then making sure that M_tilde @ jacobian_fixed is the identity.\n",
    "M_tilde = np.linalg.inv(np.transpose(jacobian_fixed) @ np.linalg.inv(cov_data) @ jacobian_fixed) @ jacobian_fixed.T @ np.linalg.inv(cov_data) \n",
    "\n",
    "plt.imshow(M_tilde @ jacobian_fixed)\n",
    "plt.colorbar()"
   ]
  },
  {
   "cell_type": "code",
   "execution_count": 13,
   "id": "6a2df6c5",
   "metadata": {},
   "outputs": [],
   "source": [
    "# Now we can compute the maximum likelihood estimate of the parameters using the formula.\n",
    "theta_ML = np.array(list(params_values)) + cov_posterior @ np.linalg.inv(cov_prior) @ M_tilde @(x_obs-model_pred)"
   ]
  },
  {
   "cell_type": "markdown",
   "id": "c3ba4e45",
   "metadata": {},
   "source": [
    "## Computing the estimators"
   ]
  },
  {
   "cell_type": "code",
   "execution_count": 14,
   "id": "dcd41857",
   "metadata": {},
   "outputs": [
    {
     "data": {
      "text/plain": [
       "0.0"
      ]
     },
     "execution_count": 14,
     "metadata": {},
     "output_type": "execute_result"
    }
   ],
   "source": [
    "# Here we compute the maximum likelihood estimator Q_ML (the log-likelihood is already normalized so we don't need extra terms in Q_ML) ref : 120\n",
    "Q_ML = -2*model.loglike(dict(zip(param_names, theta_ML)), return_derived=False)\n",
    "\n",
    "#probability to exceed the observed value\n",
    "from scipy.stats import chi2\n",
    "p_value = chi2.sf(Q_ML,13-6)\n",
    "p_value"
   ]
  },
  {
   "cell_type": "code",
   "execution_count": 15,
   "id": "0721d025",
   "metadata": {},
   "outputs": [
    {
     "data": {
      "text/plain": [
       "0.037600897391218524"
      ]
     },
     "execution_count": 15,
     "metadata": {},
     "output_type": "execute_result"
    }
   ],
   "source": [
    "_temp = np.dot(np.linalg.inv(cov_prior), cov_posterior)\n",
    "# compute Neff from the regularized spectrum of the eigenvalues:\n",
    "_eigv, _eigvec = np.linalg.eig(_temp)\n",
    "_eigv[_eigv > 1.] = 1.\n",
    "_eigv[_eigv < 0.] = 0.\n",
    "#\n",
    "_Ntot = len(_eigv)\n",
    "_Neff = _Ntot - np.real(np.sum(_eigv))\n",
    "_Neff\n"
   ]
  },
  {
   "cell_type": "code",
   "execution_count": 16,
   "id": "16dca39f",
   "metadata": {},
   "outputs": [
    {
     "data": {
      "text/plain": [
       "0.66700097111205"
      ]
     },
     "execution_count": 16,
     "metadata": {},
     "output_type": "execute_result"
    }
   ],
   "source": [
    "# Now we can compute the estimor Q_MAP, which is the log-likelihood at the best fit parameters.ref: 125\n",
    "Q_MAP = -2*model.loglike(params, return_derived=False)   \n",
    "\n",
    "from scipy.stats import chi2\n",
    "\n",
    "#probability to exceed the observed value\n",
    "p_value = chi2.sf(Q_MAP,13-_Neff)\n",
    "p_value"
   ]
  },
  {
   "cell_type": "code",
   "execution_count": 17,
   "id": "85049913",
   "metadata": {},
   "outputs": [
    {
     "data": {
      "text/plain": [
       "0.0001234930062795278"
      ]
     },
     "execution_count": 17,
     "metadata": {},
     "output_type": "execute_result"
    }
   ],
   "source": [
    "# Finally, we can compute the prior term Q_prior using ref 134.\n",
    "Q_prior = -2*(model.loglike(params, return_derived=False)  + model.logpost(params))-6*np.log(2*np.pi)-np.log(np.linalg.det(cov_prior)) \n",
    "\n",
    "from scipy.stats import chi2\n",
    "#probability to exceed the observed value\n",
    "p_value = chi2.sf(Q_prior,13)\n",
    "p_value"
   ]
  },
  {
   "cell_type": "code",
   "execution_count": 18,
   "id": "6cbf5f36",
   "metadata": {},
   "outputs": [],
   "source": [
    "# Here we compute the bayesian dimensionality\n",
    "C = np.linalg.inv(np.linalg.inv(cov_posterior)-np.linalg.inv(cov_prior))\n",
    "CM1 =  np.linalg.inv(cov_posterior)-np.linalg.inv(cov_prior)\n",
    "\n",
    "d_Bayes = np.trace(CM1 @ cov_posterior @ CM1 @ cov_posterior) + 2*(np.array(list(params.values()))-theta_ML).T @ CM1 @ cov_posterior @ CM1 @ (np.array(list(params.values()))-theta_ML)   "
   ]
  },
  {
   "cell_type": "code",
   "execution_count": null,
   "id": "24cbb558",
   "metadata": {},
   "outputs": [],
   "source": []
  },
  {
   "cell_type": "code",
   "execution_count": null,
   "id": "9be5a69a",
   "metadata": {},
   "outputs": [],
   "source": []
  },
  {
   "cell_type": "markdown",
   "id": "9d8894a3",
   "metadata": {},
   "source": [
    "# CMB"
   ]
  },
  {
   "cell_type": "markdown",
   "id": "0d1382a7",
   "metadata": {},
   "source": []
  }
 ],
 "metadata": {
  "kernelspec": {
   "display_name": "nbase",
   "language": "python",
   "name": "python3"
  },
  "language_info": {
   "codemirror_mode": {
    "name": "ipython",
    "version": 3
   },
   "file_extension": ".py",
   "mimetype": "text/x-python",
   "name": "python",
   "nbconvert_exporter": "python",
   "pygments_lexer": "ipython3",
   "version": "3.12.1"
  }
 },
 "nbformat": 4,
 "nbformat_minor": 5
}
