{
 "cells": [
  {
   "cell_type": "code",
   "execution_count": null,
   "id": "34338330",
   "metadata": {},
   "outputs": [],
   "source": [
    "import numpy as np\n",
    "import matplotlib.pyplot as plt\n",
    "from astropy.io import fits\n",
    "from scipy.io import FortranFile\n",
    "from cobaya.model import get_model\n",
    "import yaml\n",
    "import os\n",
    "from getdist import plots, MCSamples\n",
    "from cobaya.conventions import Const, packages_path_input\n",
    "from scipy.optimize import minimize\n",
    "from scipy.optimize import differential_evolution"
   ]
  },
  {
   "cell_type": "code",
   "execution_count": null,
   "id": "7c5b7e24",
   "metadata": {},
   "outputs": [],
   "source": [
    "path_GLM_data = os.path.realpath(os.path.join(os.getcwd(), '../GLM_data'))"
   ]
  },
  {
   "cell_type": "code",
   "execution_count": null,
   "id": "b7d50477",
   "metadata": {},
   "outputs": [],
   "source": [
    "\n",
    "getdist_settings = {\n",
    "    'smooth_scale_1D': 0.3,\n",
    "    'smooth_scale_2D': 0.4,\n",
    "    'boundary_correction_order': 1,\n",
    "    'mult_bias_correction_order': 1,\n",
    "    }\n"
   ]
  },
  {
   "cell_type": "markdown",
   "id": "4f96f6c7",
   "metadata": {},
   "source": [
    "# BAO"
   ]
  },
  {
   "cell_type": "code",
   "execution_count": null,
   "id": "d9eaa74b",
   "metadata": {},
   "outputs": [],
   "source": [
    "yaml_path = os.path.realpath(os.path.join(os.getcwd(), '../chains/01p1_LCDM_BAO_DESIDR2.input.yaml'))\n",
    "\n",
    "# define the path to the YAML parameters file:\n",
    "yaml_params = yaml_path #os.path.join(chains_dir, name + '.input.yaml')\n",
    "# load the parameters from the YAML file:\n",
    "with open(yaml_params, 'r') as f:\n",
    "    params_dict = yaml.safe_load(f)\n",
    "# remove the 'path' key from the 'camb' dictionary if it exists:\n",
    "if 'path' in params_dict.get('theory', {}).get('camb', {}):\n",
    "    del params_dict['theory']['camb']['path']\n",
    "if 'recombination_model' in params_dict.get('theory', {}).get('camb', {}).get('extra_args', {}):\n",
    "    del params_dict['theory']['camb']['extra_args']['recombination_model']\n",
    "if 'max_zrei'in params_dict.get('theory', {}).get('camb', {}).get('extra_args', {}):\n",
    "    del params_dict['theory']['camb']['extra_args']['max_zrei']\n",
    "    print('Removed \"max_zrei\" from the \"camb\" extra_args in the YAML parameters file.')\n",
    "# build the model:\n",
    "model = get_model(params_dict)"
   ]
  },
  {
   "cell_type": "code",
   "execution_count": null,
   "id": "91ae2f9b",
   "metadata": {},
   "outputs": [],
   "source": [
    "chains_dir = os.path.join('../chains')\n",
    "\n",
    "# import chain\n",
    "from cobaya import load_samples\n",
    "\n",
    "name = '01p1_LCDM_BAO_DESIDR2'\n",
    "chain = load_samples(os.path.join(chains_dir, name), skip=0.3, to_getdist=True)\n",
    "chain.label = name\n",
    "chain.root = os.path.join(chains_dir, name)\n",
    "chain.updateSettings(getdist_settings)\n",
    "chain.updateBaseStatistics()\n",
    "chain.getConvergeTests()\n",
    "print(chain.label+': R =', round(chain.GelmanRubin, 4))\n",
    "\n",
    "\n",
    "BestFit = chain.getBestFit()\n",
    "BestFitDict = BestFit.getParamDict()\n",
    "\n",
    "params = model.parameterization.sampled_params()\n",
    "for p in params.keys():\n",
    "    params[p] = BestFitDict[p]  # Set the best fit values for all parameters"
   ]
  },
  {
   "cell_type": "markdown",
   "id": "1e644455",
   "metadata": {},
   "source": [
    "## Maximum Likelihood estimator"
   ]
  },
  {
   "cell_type": "code",
   "execution_count": null,
   "id": "d1567acd",
   "metadata": {},
   "outputs": [],
   "source": [
    "BAO_pars = model.parameterization.sampled_params().keys()\n",
    "\n",
    "def loglike_BAO(param_vec):\n",
    "    par_dict = {}\n",
    "    for i,key in enumerate(BAO_pars):\n",
    "        par_dict[key] = param_vec[i]\n",
    "    \n",
    "    return model.loglike(par_dict, return_derived=False)\n"
   ]
  },
  {
   "cell_type": "code",
   "execution_count": null,
   "id": "aaf0ce65",
   "metadata": {},
   "outputs": [],
   "source": [
    "differential_evolution?"
   ]
  },
  {
   "cell_type": "code",
   "execution_count": null,
   "id": "70e263cf",
   "metadata": {},
   "outputs": [],
   "source": [
    "initial_guess = list(params.values())\n",
    "bounds = [(-5, 5)] * len(initial_guess)\n",
    "# result = minimize(loglike_BAO, initial_guess)\n",
    "\n",
    "result = differential_evolution(loglike_BAO, bounds, polish=True, disp=True)"
   ]
  },
  {
   "cell_type": "code",
   "execution_count": null,
   "id": "5691e0db",
   "metadata": {},
   "outputs": [],
   "source": [
    "cov_data_BAO = np.load(path_GLM_data + \"cov_data_BAO.npy\")"
   ]
  },
  {
   "cell_type": "code",
   "execution_count": null,
   "id": "9c7c8346",
   "metadata": {},
   "outputs": [],
   "source": [
    "Q_ML = - 2*result.fun - np.shape(cov_data_BAO)[0] * np.log(2*np.pi) - np.log(np.linalg.det(cov_data_BAO))\n",
    "Q_ML"
   ]
  },
  {
   "cell_type": "code",
   "execution_count": null,
   "id": "a1baa7ce",
   "metadata": {},
   "outputs": [],
   "source": [
    "result.x"
   ]
  },
  {
   "cell_type": "code",
   "execution_count": null,
   "id": "bcc3b1e4",
   "metadata": {},
   "outputs": [],
   "source": [
    "list(params.values())"
   ]
  },
  {
   "cell_type": "markdown",
   "id": "56d0b372",
   "metadata": {},
   "source": [
    "## Maximum posterior estimator"
   ]
  },
  {
   "cell_type": "code",
   "execution_count": null,
   "id": "ac82c68c",
   "metadata": {},
   "outputs": [],
   "source": [
    "Q_MAP = -2 * loglike_BAO(list(params.values())) - np.shape(cov_data_BAO)[0] * np.log(2*np.pi) - np.log(np.linalg.det(cov_data_BAO))\n",
    "Q_MAP"
   ]
  }
 ],
 "metadata": {
  "kernelspec": {
   "display_name": "mlg",
   "language": "python",
   "name": "python3"
  },
  "language_info": {
   "codemirror_mode": {
    "name": "ipython",
    "version": 3
   },
   "file_extension": ".py",
   "mimetype": "text/x-python",
   "name": "python",
   "nbconvert_exporter": "python",
   "pygments_lexer": "ipython3",
   "version": "3.9.7"
  }
 },
 "nbformat": 4,
 "nbformat_minor": 5
}
