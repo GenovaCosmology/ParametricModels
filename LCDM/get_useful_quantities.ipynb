{
 "cells": [
  {
   "cell_type": "code",
   "execution_count": null,
   "id": "3bbcba1e",
   "metadata": {},
   "outputs": [],
   "source": [
    "import numpy as np\n",
    "import matplotlib.pyplot as plt\n",
    "from astropy.io import fits\n",
    "from scipy.io import FortranFile\n",
    "from cobaya.model import get_model\n",
    "import yaml\n",
    "import os\n",
    "from getdist import plots, MCSamples\n",
    "from cobaya.conventions import Const, packages_path_input\n"
   ]
  },
  {
   "cell_type": "code",
   "execution_count": null,
   "id": "1a5c644d",
   "metadata": {},
   "outputs": [],
   "source": [
    "path_GLM_data = os.path.realpath(os.path.join(os.getcwd(), 'GLM_data'))"
   ]
  },
  {
   "cell_type": "code",
   "execution_count": null,
   "id": "430dc709",
   "metadata": {},
   "outputs": [],
   "source": [
    "getdist_settings = {\n",
    "    'smooth_scale_1D': 0.3,\n",
    "    'smooth_scale_2D': 0.4,\n",
    "    'boundary_correction_order': 1,\n",
    "    'mult_bias_correction_order': 1,\n",
    "    }"
   ]
  },
  {
   "cell_type": "markdown",
   "id": "5eff23ec",
   "metadata": {},
   "source": [
    "## ACT"
   ]
  },
  {
   "cell_type": "code",
   "execution_count": null,
   "id": "69c8cb8f",
   "metadata": {},
   "outputs": [],
   "source": [
    "yaml_path = os.path.realpath(os.path.join(os.getcwd(), 'chains/01p3_LCDM_CMB_ACTTTTEEE.input.yaml'))"
   ]
  },
  {
   "cell_type": "code",
   "execution_count": null,
   "id": "cfa6f6fb",
   "metadata": {},
   "outputs": [],
   "source": [
    "# define the path to the YAML parameters file:\n",
    "yaml_params = yaml_path #os.path.join(chains_dir, name + '.input.yaml')\n",
    "# load the parameters from the YAML file:\n",
    "with open(yaml_params, 'r') as f:\n",
    "    params_dict = yaml.safe_load(f)\n",
    "# remove the 'path' key from the 'camb' dictionary if it exists:\n",
    "if 'path' in params_dict.get('theory', {}).get('camb', {}):\n",
    "    del params_dict['theory']['camb']['path']\n",
    "if 'recombination_model' in params_dict.get('theory', {}).get('camb', {}).get('extra_args', {}):\n",
    "    del params_dict['theory']['camb']['extra_args']['recombination_model']\n",
    "if 'max_zrei'in params_dict.get('theory', {}).get('camb', {}).get('extra_args', {}):\n",
    "    del params_dict['theory']['camb']['extra_args']['max_zrei']\n",
    "    print('Removed \"max_zrei\" from the \"camb\" extra_args in the YAML parameters file.')\n",
    "\n",
    "# build the model:\n",
    "model = get_model(params_dict)"
   ]
  },
  {
   "cell_type": "code",
   "execution_count": null,
   "id": "062b926b",
   "metadata": {},
   "outputs": [],
   "source": [
    "model.components[0].__dict__"
   ]
  },
  {
   "cell_type": "code",
   "execution_count": null,
   "id": "9b149148",
   "metadata": {},
   "outputs": [],
   "source": [
    "ACT_datavector = model.components[0].data_vec"
   ]
  },
  {
   "cell_type": "code",
   "execution_count": null,
   "id": "7d25aea9",
   "metadata": {},
   "outputs": [],
   "source": [
    "ACT_covmat = model.components[0].covmat"
   ]
  },
  {
   "cell_type": "code",
   "execution_count": null,
   "id": "28beec86",
   "metadata": {},
   "outputs": [],
   "source": [
    "ACT_corr = ACT_covmat / np.outer( np.sqrt(np.diag(ACT_covmat)), np.sqrt(np.diag(ACT_covmat)))\n",
    "\n",
    "plt.imshow(ACT_corr)"
   ]
  },
  {
   "cell_type": "code",
   "execution_count": null,
   "id": "091794d7",
   "metadata": {},
   "outputs": [],
   "source": [
    "chains_dir = os.path.join('chains')\n",
    "\n",
    "# import chain\n",
    "from cobaya import load_samples\n",
    "\n",
    "name = '01p3_LCDM_CMB_ACTTTTEEE'\n",
    "chain = load_samples(os.path.join(chains_dir, name), skip=0.3, to_getdist=True)\n",
    "chain.label = name\n",
    "chain.root = os.path.join(chains_dir, name)\n",
    "chain.updateSettings(getdist_settings)\n",
    "chain.updateBaseStatistics()\n",
    "chain.getConvergeTests()\n",
    "print(chain.label+': R =', round(chain.GelmanRubin, 4))"
   ]
  },
  {
   "cell_type": "code",
   "execution_count": null,
   "id": "7fdb401b",
   "metadata": {},
   "outputs": [],
   "source": [
    "params = model.parameterization.sampled_params()\n",
    "print(params)"
   ]
  },
  {
   "cell_type": "code",
   "execution_count": null,
   "id": "8b81c494",
   "metadata": {},
   "outputs": [],
   "source": [
    "BestFit = chain.getBestFit()\n",
    "BestFitDict = BestFit.getParamDict()"
   ]
  },
  {
   "cell_type": "code",
   "execution_count": null,
   "id": "4f6051d4",
   "metadata": {},
   "outputs": [],
   "source": [
    "for p in params.keys():\n",
    "    params[p] = BestFitDict[p]  # Set the best fit values for all parameters"
   ]
  },
  {
   "cell_type": "code",
   "execution_count": null,
   "id": "cc5b8f45",
   "metadata": {},
   "outputs": [],
   "source": [
    "model.provider.set_current_input_params(params)\n",
    "logposterior = model.loglike(params, return_derived=False)\n",
    "Cls = model.provider.get_Cl(ell_factor=True)"
   ]
  },
  {
   "cell_type": "code",
   "execution_count": null,
   "id": "4dd53e5b",
   "metadata": {},
   "outputs": [],
   "source": [
    "Cls"
   ]
  },
  {
   "cell_type": "code",
   "execution_count": null,
   "id": "19faf14b",
   "metadata": {},
   "outputs": [],
   "source": [
    "model.components[0].__dict__"
   ]
  },
  {
   "cell_type": "code",
   "execution_count": null,
   "id": "43569233",
   "metadata": {},
   "outputs": [],
   "source": [
    "model.components[0].spec_meta[0]"
   ]
  },
  {
   "cell_type": "code",
   "execution_count": null,
   "id": "8402e808",
   "metadata": {},
   "outputs": [],
   "source": [
    "lmin, lmax = 600, 6500\n",
    "\n",
    "ls = Cls['ell']\n",
    "\n",
    "mask_ls = (ls >= lmin) & (ls <= lmax)"
   ]
  },
  {
   "cell_type": "code",
   "execution_count": null,
   "id": "46a98825",
   "metadata": {},
   "outputs": [],
   "source": [
    "ps_vec = np.zeros_like(ACT_datavector)\n",
    "\n",
    "for m in model.components[0].spec_meta:\n",
    "    idx = m[\"idx\"]\n",
    "    win = m[\"window\"].weight.T\n",
    "    ls = m[\"window\"].values\n",
    "    pol = m[\"pol\"]\n",
    "    dat = Cls[pol][ls] / (params['A_act'] * params['A_act'])\n",
    "    if pol[0] == \"e\":\n",
    "        dat /= params['P_act']\n",
    "    if pol[1] == \"e\":\n",
    "        dat /= params['P_act']\n",
    "\n",
    "    ps_vec[idx] = win @ dat"
   ]
  },
  {
   "cell_type": "code",
   "execution_count": null,
   "id": "4ec9b42a",
   "metadata": {},
   "outputs": [],
   "source": [
    "plt.plot(ACT_datavector)\n",
    "plt.plot(ps_vec)"
   ]
  },
  {
   "cell_type": "markdown",
   "id": "0f061797",
   "metadata": {},
   "source": [
    "## Planck High-L"
   ]
  },
  {
   "cell_type": "code",
   "execution_count": null,
   "id": "f18806f3",
   "metadata": {},
   "outputs": [],
   "source": [
    "yaml_path = os.path.realpath(os.path.join(os.getcwd(), 'chains/01p2_LCDM_CMB_PlanckTTTEEE.minimize.input.yaml'))\n",
    "\n",
    "# define the path to the YAML parameters file:\n",
    "yaml_params = yaml_path #os.path.join(chains_dir, name + '.input.yaml')\n",
    "# load the parameters from the YAML file:\n",
    "with open(yaml_params, 'r') as f:\n",
    "    params_dict = yaml.safe_load(f)\n",
    "# remove the 'path' key from the 'camb' dictionary if it exists:\n",
    "if 'path' in params_dict.get('theory', {}).get('camb', {}):\n",
    "    del params_dict['theory']['camb']['path']\n",
    "if 'recombination_model' in params_dict.get('theory', {}).get('camb', {}).get('extra_args', {}):\n",
    "    del params_dict['theory']['camb']['extra_args']['recombination_model']\n",
    "if 'max_zrei'in params_dict.get('theory', {}).get('camb', {}).get('extra_args', {}):\n",
    "    del params_dict['theory']['camb']['extra_args']['max_zrei']\n",
    "    print('Removed \"max_zrei\" from the \"camb\" extra_args in the YAML parameters file.')\n",
    "# build the model:\n",
    "model = get_model(params_dict)"
   ]
  },
  {
   "cell_type": "code",
   "execution_count": null,
   "id": "d80c219e",
   "metadata": {},
   "outputs": [],
   "source": [
    "Planck_hl_cov = model.components[0].cov\n",
    "Planck_hl_corr = Planck_hl_cov / np.outer( np.sqrt(np.diag(Planck_hl_cov)),  np.sqrt(np.diag(Planck_hl_cov)))\n",
    "\n",
    "plt.imshow(Planck_hl_corr)"
   ]
  },
  {
   "cell_type": "code",
   "execution_count": null,
   "id": "1e9d0dcc",
   "metadata": {},
   "outputs": [],
   "source": [
    "chains_dir = os.path.join('chains')\n",
    "\n",
    "# import chain\n",
    "from cobaya import load_samples\n",
    "\n",
    "name = '01p2_LCDM_CMB_PlanckTTTEEE'\n",
    "chain = load_samples(os.path.join(chains_dir, name), skip=0.3, to_getdist=True)\n",
    "chain.label = name\n",
    "chain.root = os.path.join(chains_dir, name)\n",
    "chain.updateSettings(getdist_settings)\n",
    "chain.updateBaseStatistics()\n",
    "chain.getConvergeTests()\n",
    "print(chain.label+': R =', round(chain.GelmanRubin, 4))"
   ]
  },
  {
   "cell_type": "code",
   "execution_count": null,
   "id": "ad5c36e8",
   "metadata": {},
   "outputs": [],
   "source": [
    "params = model.parameterization.sampled_params()\n",
    "print(params)\n",
    "\n",
    "BestFit = chain.getBestFit()\n",
    "BestFitDict = BestFit.getParamDict()\n",
    "\n",
    "\n",
    "for p in params.keys():\n",
    "    params[p] = BestFitDict[p]  # Set the best fit values for all parameters\n",
    "\n",
    "\n",
    "model.provider.set_current_input_params(params)\n",
    "logposterior = model.loglike(params, return_derived=False)\n",
    "Cls = model.provider.get_Cl(ell_factor=True)"
   ]
  },
  {
   "cell_type": "code",
   "execution_count": null,
   "id": "dd88b041",
   "metadata": {},
   "outputs": [],
   "source": [
    "model.components[0].__dict__"
   ]
  },
  {
   "cell_type": "code",
   "execution_count": null,
   "id": "52b9e80f",
   "metadata": {},
   "outputs": [],
   "source": [
    "blmax = model.components[0].blmax\n",
    "blmin = model.components[0].blmin\n",
    "\n",
    "used_bins = model.components[0].used_bins\n",
    "weights = model.components[0].weights\n",
    "\n",
    "used_indices = model.components[0].used_indices\n"
   ]
  },
  {
   "cell_type": "code",
   "execution_count": null,
   "id": "51fb3b90",
   "metadata": {},
   "outputs": [],
   "source": [
    "def binning_matrix(ix=0):\n",
    "    # not used by main likelihood code\n",
    "    lmax = blmax[used_bins[ix][-1]]\n",
    "    lmin = blmin[used_bins[ix][0]]\n",
    "    m = np.zeros((len(used_bins[ix]), lmax - lmin + 1))\n",
    "    for i in used_bins[ix]:\n",
    "        m[i, blmin[i] - lmin:blmax[i] + 1 - lmin] = weights[\n",
    "                                                                blmin[i]:\n",
    "                                                                blmax[i] + 1]\n",
    "    return lmin, lmax, m"
   ]
  },
  {
   "cell_type": "code",
   "execution_count": null,
   "id": "d3e21c76",
   "metadata": {},
   "outputs": [],
   "source": [
    "L0 = Cls['ell'][0]\n",
    "\n",
    "cl = np.empty(used_indices.shape)\n",
    "ix = 0\n",
    "for tp, cell in enumerate([Cls['tt'], Cls['te'], Cls['ee']]):\n",
    "    for i in used_bins[tp]:\n",
    "        cl[ix] = np.dot(cell[blmin[i] - L0:blmax[i] - L0 + 1],\n",
    "                        weights[blmin[i]:blmax[i] + 1])\n",
    "        ix += 1\n",
    "cl /= params['A_planck'] ** 2"
   ]
  },
  {
   "cell_type": "code",
   "execution_count": null,
   "id": "075735c0",
   "metadata": {},
   "outputs": [],
   "source": [
    "Planck_datavector = model.components[0].X_data"
   ]
  },
  {
   "cell_type": "code",
   "execution_count": null,
   "id": "44921013",
   "metadata": {},
   "outputs": [],
   "source": [
    "plt.loglog(Planck_datavector)\n",
    "plt.loglog(cl)"
   ]
  },
  {
   "cell_type": "markdown",
   "id": "c4a90d9d",
   "metadata": {},
   "source": [
    "# BAO"
   ]
  },
  {
   "cell_type": "code",
   "execution_count": null,
   "id": "51e82013",
   "metadata": {},
   "outputs": [],
   "source": [
    "yaml_path = os.path.realpath(os.path.join(os.getcwd(), 'chains/01p1_LCDM_BAO_DESIDR2.input.yaml'))\n",
    "\n",
    "# define the path to the YAML parameters file:\n",
    "yaml_params = yaml_path #os.path.join(chains_dir, name + '.input.yaml')\n",
    "# load the parameters from the YAML file:\n",
    "with open(yaml_params, 'r') as f:\n",
    "    params_dict = yaml.safe_load(f)\n",
    "# remove the 'path' key from the 'camb' dictionary if it exists:\n",
    "if 'path' in params_dict.get('theory', {}).get('camb', {}):\n",
    "    del params_dict['theory']['camb']['path']\n",
    "if 'recombination_model' in params_dict.get('theory', {}).get('camb', {}).get('extra_args', {}):\n",
    "    del params_dict['theory']['camb']['extra_args']['recombination_model']\n",
    "if 'max_zrei'in params_dict.get('theory', {}).get('camb', {}).get('extra_args', {}):\n",
    "    del params_dict['theory']['camb']['extra_args']['max_zrei']\n",
    "    print('Removed \"max_zrei\" from the \"camb\" extra_args in the YAML parameters file.')\n",
    "# build the model:\n",
    "model = get_model(params_dict)"
   ]
  },
  {
   "cell_type": "code",
   "execution_count": null,
   "id": "f116e3fd",
   "metadata": {},
   "outputs": [],
   "source": [
    "model.provider?"
   ]
  },
  {
   "cell_type": "code",
   "execution_count": null,
   "id": "97ad0789",
   "metadata": {},
   "outputs": [],
   "source": [
    "cov = model.components[0].cov\n",
    "corr = cov / np.outer(np.sqrt(np.diag(cov)), np.sqrt(np.diag(cov)))\n",
    "plt.imshow(corr)"
   ]
  },
  {
   "cell_type": "code",
   "execution_count": null,
   "id": "06033c12",
   "metadata": {},
   "outputs": [],
   "source": [
    "np.save(path_GLM_data + \"cov_data_BAO.npy\", cov)"
   ]
  },
  {
   "cell_type": "code",
   "execution_count": null,
   "id": "a6d6aaad",
   "metadata": {},
   "outputs": [],
   "source": [
    "redshifts = np.array(model.components[0].data['z'])\n",
    "BAO_datavector = np.array(model.components[0].data['value'])\n",
    "observables = np.array(model.components[0].data['observable']).astype(str)"
   ]
  },
  {
   "cell_type": "code",
   "execution_count": null,
   "id": "2966c81f",
   "metadata": {},
   "outputs": [],
   "source": [
    "chains_dir = os.path.join('chains')\n",
    "\n",
    "# import chain\n",
    "from cobaya import load_samples\n",
    "\n",
    "name = '01p1_LCDM_BAO_DESIDR2'\n",
    "chain = load_samples(os.path.join(chains_dir, name), skip=0.3, to_getdist=True)\n",
    "chain.label = name\n",
    "chain.root = os.path.join(chains_dir, name)\n",
    "chain.updateSettings(getdist_settings)\n",
    "chain.updateBaseStatistics()\n",
    "chain.getConvergeTests()\n",
    "print(chain.label+': R =', round(chain.GelmanRubin, 4))"
   ]
  },
  {
   "cell_type": "code",
   "execution_count": null,
   "id": "d0dd836b",
   "metadata": {},
   "outputs": [],
   "source": [
    "params = model.parameterization.sampled_params()\n",
    "print(params)\n",
    "\n",
    "BestFit = chain.getBestFit()\n",
    "BestFitDict = BestFit.getParamDict()\n",
    "\n",
    "\n",
    "for p in params.keys():\n",
    "    params[p] = BestFitDict[p]  # Set the best fit values for all parameters\n",
    "\n",
    "\n",
    "model.provider.set_current_input_params(params)\n",
    "logposterior = model.loglike(params, return_derived=False)\n",
    "\n",
    "rdrag = model.components[0].provider.get_param(\"rdrag\")\n",
    "rs = rdrag * model.components[0].rs_rescale"
   ]
  },
  {
   "cell_type": "code",
   "execution_count": null,
   "id": "828e21a8",
   "metadata": {},
   "outputs": [],
   "source": [
    "def theory_fun(z, observable):\n",
    "    # Functions to get the corresponding theoretical prediction:\n",
    "    # Spherically-averaged distance, over sound horizon radius\n",
    "    if observable == \"DV_over_rs\":\n",
    "        return np.cbrt(\n",
    "            ((1 + z) * model.provider.get_angular_diameter_distance(z)) ** 2 *\n",
    "            Const.c_km_s * z / model.provider.get_Hubble(z,\n",
    "                                                        units=\"km/s/Mpc\")) / rs\n",
    "    # Idem, inverse\n",
    "    elif observable == \"rs_over_DV\":\n",
    "        return np.cbrt(\n",
    "            ((1 + z) * model.provider.get_angular_diameter_distance(z)) ** 2 *\n",
    "            Const.c_km_s * z / model.provider.get_Hubble(z, units=\"km/s/Mpc\")\n",
    "        ) ** (-1) * rs\n",
    "    # Comoving angular diameter distance, over sound horizon radius\n",
    "    elif observable == \"DM_over_rs\":\n",
    "        return (1 + z) * model.provider.get_angular_diameter_distance(z) / rs\n",
    "    # Physical angular diameter distance, over sound horizon radius\n",
    "    elif observable == \"DA_over_rs\":\n",
    "        return model.provider.get_angular_diameter_distance(z) / rs\n",
    "    # Hubble distance [c/H(z)] over sound horizon radius.\n",
    "    elif observable == \"DH_over_rs\":\n",
    "        return 1 / model.provider.get_Hubble(z, units=\"1/Mpc\") / rs\n",
    "    # Hubble parameter, times sound horizon radius\n",
    "    elif observable == \"Hz_rs\":\n",
    "        return model.provider.get_Hubble(z, units=\"km/s/Mpc\") * rs\n",
    "    # Diff Linear Growth Rate times present amplitude\n",
    "    elif observable == \"f_sigma8\":\n",
    "        return model.provider.get_fsigma8(z)\n",
    "    # Anisotropy (Alcock-Paczynski) parameter\n",
    "    elif observable == \"F_AP\":\n",
    "        return ((1 + z) * model.provider.get_angular_diameter_distance(z) *\n",
    "                model.provider.get_Hubble(z, units=\"km/s/Mpc\")) / Const.c_km_s"
   ]
  },
  {
   "cell_type": "code",
   "execution_count": null,
   "id": "714505d5",
   "metadata": {},
   "outputs": [],
   "source": [
    "BAO_model = np.array([theory_fun(redshifts[i], observables[i]) for i in range(len(redshifts))]).flatten()"
   ]
  },
  {
   "cell_type": "code",
   "execution_count": null,
   "id": "4abc1c42",
   "metadata": {},
   "outputs": [],
   "source": [
    "plt.plot(BAO_model)\n",
    "plt.plot(BAO_datavector)"
   ]
  },
  {
   "cell_type": "markdown",
   "id": "f7aeed1b",
   "metadata": {},
   "source": [
    "# DES Supernovae"
   ]
  },
  {
   "cell_type": "code",
   "execution_count": null,
   "id": "21c0409e",
   "metadata": {},
   "outputs": [],
   "source": [
    "yaml_path = os.path.realpath(os.path.join(os.getcwd(), 'chains/01p5_LCDM_SN_DESY5.input.yaml'))\n",
    "\n",
    "# define the path to the YAML parameters file:\n",
    "yaml_params = yaml_path #os.path.join(chains_dir, name + '.input.yaml')\n",
    "# load the parameters from the YAML file:\n",
    "with open(yaml_params, 'r') as f:\n",
    "    params_dict = yaml.safe_load(f)\n",
    "# remove the 'path' key from the 'camb' dictionary if it exists:\n",
    "if 'path' in params_dict.get('theory', {}).get('camb', {}):\n",
    "    del params_dict['theory']['camb']['path']\n",
    "if 'recombination_model' in params_dict.get('theory', {}).get('camb', {}).get('extra_args', {}):\n",
    "    del params_dict['theory']['camb']['extra_args']['recombination_model']\n",
    "if 'max_zrei'in params_dict.get('theory', {}).get('camb', {}).get('extra_args', {}):\n",
    "    del params_dict['theory']['camb']['extra_args']['max_zrei']\n",
    "    print('Removed \"max_zrei\" from the \"camb\" extra_args in the YAML parameters file.')\n",
    "# build the model:\n",
    "model = get_model(params_dict)"
   ]
  },
  {
   "cell_type": "code",
   "execution_count": null,
   "id": "0bf74c71",
   "metadata": {},
   "outputs": [],
   "source": [
    "cov = model.components[0].covs['mag']\n",
    "corr = cov / np.outer(np.sqrt(np.diag(cov)), np.sqrt(np.diag(cov)))\n",
    "plt.imshow(corr)"
   ]
  },
  {
   "cell_type": "code",
   "execution_count": null,
   "id": "88835aea",
   "metadata": {},
   "outputs": [],
   "source": [
    "cols = model.components[0].cols\n",
    "\n",
    "mag = model.components[0].mag \n",
    "invcov = model.components[0].invcov\n",
    "\n",
    "zcmb = model.components[0].zcmb\n",
    "zhel = model.components[0].zhel"
   ]
  },
  {
   "cell_type": "code",
   "execution_count": null,
   "id": "8caccde5",
   "metadata": {},
   "outputs": [],
   "source": [
    "chains_dir = os.path.join('chains')\n",
    "\n",
    "# import chain\n",
    "from cobaya import load_samples\n",
    "\n",
    "name = '01p5_LCDM_SN_DESY5'\n",
    "chain = load_samples(os.path.join(chains_dir, name), skip=0.3, to_getdist=True)\n",
    "chain.label = name\n",
    "chain.root = os.path.join(chains_dir, name)\n",
    "chain.updateSettings(getdist_settings)\n",
    "chain.updateBaseStatistics()\n",
    "chain.getConvergeTests()\n",
    "print(chain.label+': R =', round(chain.GelmanRubin, 4))"
   ]
  },
  {
   "cell_type": "code",
   "execution_count": null,
   "id": "66ec541d",
   "metadata": {},
   "outputs": [],
   "source": [
    "params = model.parameterization.sampled_params()\n",
    "print(params)\n",
    "\n",
    "BestFit = chain.getBestFit()\n",
    "BestFitDict = BestFit.getParamDict()\n",
    "\n",
    "\n",
    "for p in params.keys():\n",
    "    params[p] = BestFitDict[p]  # Set the best fit values for all parameters\n",
    "\n",
    "\n",
    "model.provider.set_current_input_params(params)\n",
    "logposterior = model.loglike(params, return_derived=False)\n"
   ]
  },
  {
   "cell_type": "code",
   "execution_count": null,
   "id": "3415a770",
   "metadata": {},
   "outputs": [],
   "source": [
    "angular_diameter_distances = model.provider.get_angular_diameter_distance(zcmb)\n",
    "SN_model = 5 * np.log10((1 + zhel) * (1 + zcmb) * angular_diameter_distances) \n"
   ]
  },
  {
   "cell_type": "code",
   "execution_count": null,
   "id": "d365d417",
   "metadata": {},
   "outputs": [],
   "source": [
    "plt.plot(SN_model + 25, label='model')\n",
    "plt.plot(mag, label='data')\n",
    "plt.title('DESY5 Supernovae')\n",
    "plt.xlabel(\"SN #\")\n",
    "plt.ylabel(\"Mag\")\n",
    "plt.legend()"
   ]
  },
  {
   "cell_type": "code",
   "execution_count": null,
   "id": "41f690bf",
   "metadata": {},
   "outputs": [],
   "source": [
    "model.components[0].__dict__"
   ]
  },
  {
   "cell_type": "code",
   "execution_count": null,
   "id": "3aeba00d",
   "metadata": {},
   "outputs": [],
   "source": [
    "model.components[0].__dict__"
   ]
  }
 ],
 "metadata": {
  "kernelspec": {
   "display_name": "mlg",
   "language": "python",
   "name": "python3"
  },
  "language_info": {
   "codemirror_mode": {
    "name": "ipython",
    "version": 3
   },
   "file_extension": ".py",
   "mimetype": "text/x-python",
   "name": "python",
   "nbconvert_exporter": "python",
   "pygments_lexer": "ipython3",
   "version": "3.9.7"
  }
 },
 "nbformat": 4,
 "nbformat_minor": 5
}
