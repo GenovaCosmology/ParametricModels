{
 "cells": [
  {
   "cell_type": "markdown",
   "id": "b33210eb-b82c-4def-bc30-81777a32811b",
   "metadata": {},
   "source": [
    "# GLM for gravitational wave events\n",
    "In this notebook, we illustrate through example how to construct a GLM for gravitational wave events. We take GW190521 as an example."
   ]
  },
  {
   "cell_type": "markdown",
   "id": "25ec3322-576d-4e87-8163-a4ddb723a55e",
   "metadata": {},
   "source": [
    "## Imports"
   ]
  },
  {
   "cell_type": "code",
   "execution_count": 1,
   "id": "d5061bc6-9162-420e-a440-7cd9405dce1f",
   "metadata": {},
   "outputs": [
    {
     "name": "stderr",
     "output_type": "stream",
     "text": [
      "/home/stan/Documents/python_envs/genova/lib/python3.12/site-packages/gwpy/time/__init__.py:36: UserWarning: Wswiglal-redir-stdio:\n",
      "\n",
      "SWIGLAL standard output/error redirection is enabled in IPython.\n",
      "This may lead to performance penalties. To disable locally, use:\n",
      "\n",
      "with lal.no_swig_redirect_standard_output_error():\n",
      "    ...\n",
      "\n",
      "To disable globally, use:\n",
      "\n",
      "lal.swig_redirect_standard_output_error(False)\n",
      "\n",
      "Note however that this will likely lead to error messages from\n",
      "LAL functions being either misdirected or lost when called from\n",
      "Jupyter notebooks.\n",
      "\n",
      "To suppress this warning, use:\n",
      "\n",
      "import warnings\n",
      "warnings.filterwarnings(\"ignore\", \"Wswiglal-redir-stdio\")\n",
      "import lal\n",
      "\n",
      "  from lal import LIGOTimeGPS\n"
     ]
    }
   ],
   "source": [
    "# General\n",
    "import numpy as np\n",
    "from scipy.interpolate import interp1d\n",
    "from scipy.linalg import block_diag\n",
    "import matplotlib.pyplot as plt\n",
    "\n",
    "# gwpy\n",
    "from gwpy.timeseries import TimeSeries\n",
    "\n",
    "# gwosc\n",
    "from gwosc.datasets import event_gps\n",
    "\n",
    "# Bilby\n",
    "import bilby\n",
    "from gwpy.timeseries import TimeSeries\n",
    "from bilby.gw.waveform_generator import WaveformGenerator\n",
    "from bilby.gw.detector import Interferometer"
   ]
  },
  {
   "cell_type": "markdown",
   "id": "08ce1e6c-684b-40ba-ac8b-e1dc5014f604",
   "metadata": {},
   "source": [
    "### Prepare the data"
   ]
  },
  {
   "cell_type": "code",
   "execution_count": 2,
   "id": "fc6dbedb-62d6-48d0-b90b-1bdb0ab10dde",
   "metadata": {},
   "outputs": [],
   "source": [
    "# Define GPS time window\n",
    "gps_time = event_gps(\"GW190521\")\n",
    "duration = 4\n",
    "start = gps_time - duration / 2\n",
    "end = gps_time + duration / 2\n",
    "\n",
    "# Strain observed on 3 detectors\n",
    "detectors = [\"H1\", \"V1\", \"L1\"]\n",
    "strains = []\n",
    "\n",
    "for det in detectors:\n",
    "    # Download strain\n",
    "    strains.append(TimeSeries.fetch_open_data(det, start, end))"
   ]
  },
  {
   "cell_type": "markdown",
   "id": "1b4a176b-fd37-42f9-8a7f-3ebe2e661535",
   "metadata": {},
   "source": [
    "##### PSD estimation"
   ]
  },
  {
   "cell_type": "code",
   "execution_count": 3,
   "id": "5e381d80-c7a4-46d7-8acc-3d78a65c8698",
   "metadata": {},
   "outputs": [],
   "source": [
    "psd_all = []\n",
    "freq_all = []\n",
    "white_all = []\n",
    "for i, det in enumerate(detectors):\n",
    "    # Estimate noise PSD\n",
    "    psd = strains[i].psd(fftlength=2, overlap=1)\n",
    "    whitened = strains[i].whiten(asd=np.sqrt(psd))\n",
    "\n",
    "    # Frequencies and one-sided PSD\n",
    "    freq_all.append(psd.frequencies.value)\n",
    "    psd_all.append(psd.value)\n",
    "    white_all.append(whitened)"
   ]
  },
  {
   "cell_type": "markdown",
   "id": "8f2d0c65-3e51-40de-84ad-77bc64305c6d",
   "metadata": {},
   "source": [
    "### Bilby interferometers"
   ]
  },
  {
   "cell_type": "code",
   "execution_count": 4,
   "id": "1bcbbd1f-947b-4cc5-bcc7-4f74cb8e2502",
   "metadata": {},
   "outputs": [],
   "source": [
    "ifo_list = bilby.gw.detector.InterferometerList(detectors)\n",
    "\n",
    "for i, det in enumerate(detectors):\n",
    "    # Set strain data\n",
    "    ifo_list[i].set_strain_data_from_gwpy_timeseries(strains[i])\n",
    "    \n",
    "    # Add psd\n",
    "    ifo_list[i].power_spectral_density = bilby.gw.detector.PowerSpectralDensity(\n",
    "        frequency_array=freq_all[i],\n",
    "        asd_array=np.sqrt(psd_all[i])\n",
    "    )"
   ]
  },
  {
   "cell_type": "markdown",
   "id": "351fb897-6fb7-4342-9b58-84e0c4a4d1ad",
   "metadata": {},
   "source": [
    "### Bilby model"
   ]
  },
  {
   "cell_type": "code",
   "execution_count": 5,
   "id": "cc48179c-ab62-45d2-ac4e-271788a80025",
   "metadata": {},
   "outputs": [
    {
     "name": "stderr",
     "output_type": "stream",
     "text": [
      "16:53 bilby INFO    : Waveform generator initiated with\n",
      "  frequency_domain_source_model: bilby.gw.source.lal_binary_black_hole\n",
      "  time_domain_source_model: None\n",
      "  parameter_conversion: bilby.gw.conversion.convert_to_lal_binary_black_hole_parameters\n"
     ]
    }
   ],
   "source": [
    "# Set waveform arguments\n",
    "# TODO: check reference frequency\n",
    "waveform_args = dict(waveform_approximant=\"IMRPhenomXPHM\", # \"NRSur7dq4\",\n",
    "                     reference_frequency=20., \n",
    "                     minimum_frequency=20.)\n",
    "\n",
    "# Create generator\n",
    "# TODO: currently set duration/2, since duration is half before, half after event. Is this correct?\n",
    "waveform_generator = WaveformGenerator(\n",
    "    duration=duration/2, \n",
    "    sampling_frequency=strains[0].sample_rate.value,\n",
    "    frequency_domain_source_model=bilby.gw.source.lal_binary_black_hole,\n",
    "    parameter_conversion=bilby.gw.conversion.convert_to_lal_binary_black_hole_parameters,\n",
    "    waveform_arguments=waveform_args\n",
    ")"
   ]
  },
  {
   "cell_type": "code",
   "execution_count": 6,
   "id": "9f1ab3fb-ba94-4439-9353-723aef36dbb7",
   "metadata": {},
   "outputs": [],
   "source": [
    "# Params from GWOSC\n",
    "theta0 = dict(mass_1=85, \n",
    "              mass_2=66, \n",
    "              luminosity_distance=5300,\n",
    "              a_1=0.5, \n",
    "              a_2=0.5, \n",
    "              tilt_1=0.1, \n",
    "              tilt_2=0.1,\n",
    "              phi_12=0, \n",
    "              phi_jl=0, \n",
    "              ra=1.3, \n",
    "              dec=-1.2,\n",
    "              theta_jn=0.5, \n",
    "              psi=2.7,\n",
    "              phase=1.0,\n",
    "              geocent_time=gps_time)\n",
    "\n",
    "# mass_1_source\t(84.83, 21.07, -13.9)\t(90.33, 22.81, -15.66)\t(98.9, 42.08, -18.79)\n",
    "# mass_2_source\t(65.86, 16.96, -17.79)\t(64.94, 15.78, -18.26)\t(71.13, 21.01, -27.9)\n",
    "# total_mass_source\t(149.75, 29.15, -17.01)\t(154.44, 25.07, -15.9)\t(170.3, 36.49, -23.16)\n",
    "# chirp_mass_source\t(64.04, 13.02, -7.98)\t(65.46, 10.99, -7.46)\t(71.3, 15.01, -9.92)\n",
    "# mass_ratio\t(0.7942, 0.1852, -0.2911)\t(0.7253, 0.2431, -0.2874)\t(0.7423, 0.2286, -0.424)\n",
    "\n",
    "\n",
    "# TODO: theta0 should be the prior mean\n",
    "theta0 = dict(mass_1 = 152.09, \n",
    "              mass_2 = 119.8, \n",
    "              luminosity_distance = 5297.0, \n",
    "              # total_mass = 272.59,\n",
    "              # chirp_mass = 116.84,\n",
    "              a_1 = 0.6921,\n",
    "              a_2 = 0.7278,\n",
    "              tilt_1 = 1.423,\n",
    "              tilt_2 = 1.4899,\n",
    "              phi_12 = 0,\n",
    "              phi_jl = 0,\n",
    "              # chi_eff = 0.0812,\n",
    "              # chi_p = 0.6775,\n",
    "              # final_mass_source = 142.17,\n",
    "              # final_spin = 0.7201, \n",
    "              # radiated_energy = 7.617,\n",
    "              # peak_luminosity = 3.6755, \n",
    "              # redshift = 0.8177,\n",
    "              ra = 3.457,\n",
    "              dec = -0.782,\n",
    "              theta_jn = 0.5,\n",
    "              psi = 1.6,\n",
    "              phase = 1.,\n",
    "              geocent_time = gps_time,\n",
    ")\n",
    "waveform_generator.parameters = theta0"
   ]
  },
  {
   "cell_type": "markdown",
   "id": "a73b6255-b0cb-451e-b239-7e3999132390",
   "metadata": {},
   "source": [
    "##### Get frequency domain response"
   ]
  },
  {
   "cell_type": "code",
   "execution_count": 7,
   "id": "92d8e69b-7106-4ff4-a863-63e02f552828",
   "metadata": {},
   "outputs": [],
   "source": [
    "hf_dict = waveform_generator.frequency_domain_strain()\n",
    "\n",
    "hf_all = []\n",
    "data_all = []\n",
    "\n",
    "for i, det in enumerate(detectors):\n",
    "    hf = ifo_list[i].get_detector_response(hf_dict, theta0, frequencies=freq_all[i])\n",
    "    hf_all.append(hf)\n",
    "    \n",
    "    # Flatten data vector\n",
    "    x0 = np.concatenate([np.real(hf), np.imag(hf)])\n",
    "    data_all.append(x0)"
   ]
  },
  {
   "cell_type": "markdown",
   "id": "84e49a57-2655-4069-9877-1bf558deb8ec",
   "metadata": {},
   "source": [
    "### Jacobian estimation"
   ]
  },
  {
   "cell_type": "code",
   "execution_count": 8,
   "id": "31455694-c5c9-452f-a796-471fab26aa0b",
   "metadata": {},
   "outputs": [],
   "source": [
    "param_keys = ['mass_1', 'mass_2', 'luminosity_distance']\n",
    "eps = 1e-3\n",
    "J_all = []\n",
    "\n",
    "for i, det in enumerate(detectors):\n",
    "    n_data = len(data_all[i])\n",
    "    n_params = len(param_keys)\n",
    "    J = np.zeros((n_data, n_params))\n",
    "    for j, p in enumerate(param_keys):\n",
    "        # Copy arrays\n",
    "        thetap = theta0.copy()\n",
    "        thetam = theta0.copy()\n",
    "\n",
    "        # Finite difference\n",
    "        thetap[p] += eps\n",
    "        thetam[p] -= eps\n",
    "        \n",
    "        wf_p = waveform_generator.frequency_domain_strain(thetap)\n",
    "        wf_m = waveform_generator.frequency_domain_strain(thetam)\n",
    "        \n",
    "        hf_p = ifo_list[i].get_detector_response(wf_p, thetap, frequencies=freq_all[i])\n",
    "        hf_m = ifo_list[i].get_detector_response(wf_m, thetam, frequencies=freq_all[i])\n",
    "        vec_p = np.concatenate([np.real(hf_p), np.imag(hf_p)])\n",
    "        vec_m = np.concatenate([np.real(hf_m), np.imag(hf_m)])\n",
    "        J[:, j] = (vec_p - vec_m) / (2 * eps)\n",
    "    J_all.append(J)\n",
    "\n",
    "J = block_diag(*J_all)"
   ]
  },
  {
   "cell_type": "code",
   "execution_count": 9,
   "id": "ce23b53f-9004-4866-9a2a-8fee378f8480",
   "metadata": {},
   "outputs": [
    {
     "data": {
      "text/plain": [
       "(24582, 9)"
      ]
     },
     "execution_count": 9,
     "metadata": {},
     "output_type": "execute_result"
    }
   ],
   "source": [
    "J.shape"
   ]
  },
  {
   "cell_type": "markdown",
   "id": "2fac85aa-b067-46ee-b962-765cdacf18ac",
   "metadata": {},
   "source": [
    "### GLM building"
   ]
  },
  {
   "cell_type": "code",
   "execution_count": 10,
   "id": "b508bc86-f93d-42ac-88bb-fbbf31dc62c4",
   "metadata": {},
   "outputs": [],
   "source": [
    "inv_Sn = 1.0 / np.concatenate(psd_all)\n",
    "inv_Sn_full = np.concatenate([inv_Sn, inv_Sn])  # real + imag\n",
    "Sigma_inv = np.diag(inv_Sn_full)\n",
    "\n",
    "Cinv = J.T @ Sigma_inv @ J\n",
    "C = np.linalg.inv(Cinv)\n",
    "\n",
    "# print(\"Parameter covariance C:\\n\", C)"
   ]
  },
  {
   "cell_type": "markdown",
   "id": "3781d3c2-fd85-4da8-bb69-690942859918",
   "metadata": {},
   "source": [
    "#### GLM posterior"
   ]
  },
  {
   "cell_type": "code",
   "execution_count": 11,
   "id": "6f341c5e-861a-47da-9831-70a95e5b4b24",
   "metadata": {},
   "outputs": [
    {
     "name": "stdout",
     "output_type": "stream",
     "text": [
      "No shift --> logL = 0\n",
      "dlogL = 0.0\n",
      "Small shift\n",
      "dlogL = -2.5462956169455015\n"
     ]
    }
   ],
   "source": [
    "# Shift in logL for shift away from optimal params\n",
    "def glm_dlogL(delta_theta):\n",
    "    return -0.5 * delta_theta.T @ Cinv @ delta_theta\n",
    "\n",
    "\n",
    "# No shift --> logL = 0\n",
    "print(\"No shift --> logL = 0\")\n",
    "dtheta = np.array([0,0,0] * len(detectors))\n",
    "print(\"dlogL =\", glm_dlogL(dtheta))\n",
    "\n",
    "# Small shift\n",
    "# dtheta = np.array([85, 66, 5300] * 3)\n",
    "print(\"Small shift\")\n",
    "dtheta = np.array([1., -1., 100.] * len(detectors))\n",
    "print(\"dlogL =\", glm_dlogL(dtheta))"
   ]
  },
  {
   "cell_type": "code",
   "execution_count": 12,
   "id": "5fb54d8d-ca7a-425d-a96d-f94fd7dd8bd3",
   "metadata": {},
   "outputs": [
    {
     "data": {
      "image/png": "[encoded data removed]",
      "text/plain": [
       "<Figure size 640x480 with 1 Axes>"
      ]
     },
     "metadata": {},
     "output_type": "display_data"
    }
   ],
   "source": [
    "plt.figure()\n",
    "plt.title(\"Frequency domain data\")\n",
    "for i, det in enumerate(detectors):\n",
    "    plt.plot(freq_all[i], np.abs(hf_all[i]), label=det)\n",
    "plt.xlim(0, 500)\n",
    "plt.xlabel(\"Frequency [Hz]\")\n",
    "plt.legend()\n",
    "plt.show()"
   ]
  },
  {
   "cell_type": "code",
   "execution_count": null,
   "id": "0721d74e-82e2-4904-a225-767482a71159",
   "metadata": {},
   "outputs": [],
   "source": []
  }
 ],
 "metadata": {
  "kernelspec": {
   "display_name": "Python 3 (ipykernel)",
   "language": "python",
   "name": "python3"
  },
  "language_info": {
   "codemirror_mode": {
    "name": "ipython",
    "version": 3
   },
   "file_extension": ".py",
   "mimetype": "text/x-python",
   "name": "python",
   "nbconvert_exporter": "python",
   "pygments_lexer": "ipython3",
   "version": "3.12.3"
  }
 },
 "nbformat": 4,
 "nbformat_minor": 5
}
