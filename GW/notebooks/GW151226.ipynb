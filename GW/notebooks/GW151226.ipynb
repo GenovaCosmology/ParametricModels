{
 "cells": [
  {
   "cell_type": "markdown",
   "id": "675b7dcf-5c4e-47c4-957c-65842889e05a",
   "metadata": {},
   "source": [
    "## Notebook for event GW190521\n",
    "This notebook loads the posterior points and prior provided by [GWOSC](https://gwosc.org/), and (re)constructs the likelihood using [bilby](https://bilby-dev.github.io/bilby/)\n",
    "\n",
    "The event GW190521 has a primary merger BH mass that lies within the pair-instability mass gap (see e.g. [2009.01190](https://arxiv.org/abs/2009.01190) and [2009.01075](https://arxiv.org/abs/2009.01075))"
   ]
  },
  {
   "cell_type": "markdown",
   "id": "31724942-46ce-41e0-9c3d-39513f114a1d",
   "metadata": {},
   "source": [
    "### Imports"
   ]
  },
  {
   "cell_type": "code",
   "execution_count": null,
   "id": "346cc604-4c6a-441b-8a77-dd6d8129b2e4",
   "metadata": {},
   "outputs": [],
   "source": [
    "# General purpose\n",
    "import numpy as np\n",
    "import matplotlib.pyplot as plt\n",
    "import os\n",
    "import subprocess\n",
    "\n",
    "# Bilby\n",
    "import bilby\n",
    "from bilby.gw.detector import InterferometerList\n",
    "from bilby.gw.likelihood import GravitationalWaveTransient\n",
    "from bilby.gw.waveform_generator import WaveformGenerator\n",
    "from bilby.gw.source import lal_binary_black_hole\n",
    "logger = bilby.core.utils.logger\n",
    "\n",
    "# GWOSC\n",
    "from gwosc.datasets import event_gps\n",
    "from gwosc.api import fetch_event_json\n",
    "from gwosc.locate import get_event_urls\n",
    "from gwosc import datasets\n",
    "\n",
    "# Getdist\n",
    "from getdist import MCSamples\n",
    "from getdist import plots\n",
    "\n",
    "# Other\n",
    "from gwpy.timeseries import TimeSeries\n",
    "from pesummary.gw.fetch import fetch_open_samples\n",
    "\n",
    "EVENT = \"GW151226\""
   ]
  },
  {
   "cell_type": "markdown",
   "id": "6567aad1-afd8-40f7-b607-4b3d9e791642",
   "metadata": {},
   "source": [
    "### Fetching event posterior samples"
   ]
  },
  {
   "cell_type": "code",
   "execution_count": null,
   "id": "cee6789b-302c-4a6e-9825-7ef051b73a75",
   "metadata": {},
   "outputs": [],
   "source": [
    "# Check if directory exists. If not, create it\n",
    "if not os.path.exists(f\"{EVENT}\"):\n",
    "    os.mkdir(f\"{EVENT}\")\n",
    "\n",
    "# Event is in the GWTC-1 catalog, so we can download it as-is\n",
    "data = fetch_open_samples(EVENT, \n",
    "                          # catalog=\"GWTC-2\", \n",
    "                          # unpack=True, \n",
    "                          read_file=True,\n",
    "                          delete_on_exit=False, \n",
    "                          outdir=f\"./{EVENT}\", \n",
    "                          path=f\"{EVENT}.h5\")\n",
    "\n",
    "# Samples and prior information\n",
    "samples = data.samples_dict\n",
    "priors = data.priors\n",
    "\n",
    "calibration = priors[\"calibration\"]\n",
    "sample_prior = priors[\"samples\"]"
   ]
  },
  {
   "cell_type": "markdown",
   "id": "f788cd18-5bec-4e64-8e46-5f45f5bbc457",
   "metadata": {},
   "source": [
    "### MCSamples\n",
    "This event contains multiple waveform chains. I have extracted only \"PublicationSamples\" here, but in principle the following are available:\n",
    "* C01:IMRPhenomPv3HM\n",
    "* C01:NRSur7dq4\n",
    "* C01:SE0BNRv4PHM\n",
    "* PrecessingSpinIMRHM\n",
    "* PublicationSamples"
   ]
  },
  {
   "cell_type": "code",
   "execution_count": null,
   "id": "895de2a9-94c0-4bc4-9b26-fcd6d8e2f83a",
   "metadata": {},
   "outputs": [],
   "source": [
    "print(samples.keys())"
   ]
  },
  {
   "cell_type": "code",
   "execution_count": null,
   "id": "6d64cf03-87fe-4898-91b4-43d12319c4bb",
   "metadata": {},
   "outputs": [],
   "source": [
    "# MODEL = \"PublicationSamples\"\n",
    "# MODEL = \"C01:IMRPhenomPv3HM\"\n",
    "# MODEL = \"C01:NRSur7dq4\"\n",
    "MODEL = \"C01:IMRPhenomXPHM\"\n",
    "\n",
    "# MCSamples object\n",
    "mcs_object = MCSamples(samples = samples[MODEL].samples.T, names = samples[MODEL].keys())"
   ]
  },
  {
   "cell_type": "markdown",
   "id": "839189fb-1c20-4412-a487-e77840e25ab4",
   "metadata": {},
   "source": [
    "### Likelihood\n",
    "Setting up the likelihood consists of 3 parts:\n",
    "1) Creating a bilby interferometer object containing time-domain and PSD data for each detector\n",
    "2) Setting up the priors in a bilby prior object\n",
    "3) Setting up the model"
   ]
  },
  {
   "cell_type": "markdown",
   "id": "77e124ec-d90a-484a-9c16-2945633e9911",
   "metadata": {},
   "source": [
    "#### 1. Interferometer objects"
   ]
  },
  {
   "cell_type": "code",
   "execution_count": null,
   "id": "a9a7348a-5ed9-4b41-9347-92f7480f6b85",
   "metadata": {},
   "outputs": [],
   "source": [
    "# Timings info\n",
    "trigger_time = datasets.event_gps(EVENT)\n",
    "\n",
    "duration = 4  # Analysis segment duration\n",
    "post_trigger_duration = 2  # Time between trigger time and end of segment\n",
    "end_time = trigger_time + post_trigger_duration\n",
    "start_time = end_time - duration\n",
    "\n",
    "# Detector frequency info\n",
    "maximum_frequency = 512\n",
    "minimum_frequency = 20\n",
    "\n",
    "# Detectors available as metadata\n",
    "detectors = calibration[MODEL].detectors\n",
    "\n",
    "# PSD data already available\n",
    "PSD_all = data.psd[MODEL]\n",
    "ifo_list = InterferometerList([])\n",
    "\n",
    "for det in detectors:\n",
    "    # Fetch time-domain data\n",
    "    time_data = TimeSeries.fetch_open_data(det, start_time, end_time)\n",
    "    ifo = bilby.gw.detector.get_empty_interferometer(det)\n",
    "    ifo.strain_data.set_from_gwpy_timeseries(time_data)\n",
    "\n",
    "    # Add PSD\n",
    "    ifo.power_spectral_density = bilby.gw.detector.PowerSpectralDensity(\n",
    "        frequency_array=PSD_all[det].frequencies, psd_array=PSD_all[det].strains)\n",
    "\n",
    "    ifo.maximum_frequency = maximum_frequency\n",
    "    ifo.minimum_frequency = minimum_frequency\n",
    "    ifo_list.append(ifo)"
   ]
  },
  {
   "cell_type": "markdown",
   "id": "5277466b-c147-443b-8cd4-d4735d04de27",
   "metadata": {},
   "source": [
    "#### 2. Priors"
   ]
  },
  {
   "cell_type": "code",
   "execution_count": null,
   "id": "29d705de-d308-4403-8175-1601005dd0ca",
   "metadata": {},
   "outputs": [],
   "source": [
    "# These are sampled from the prior. I guess we can reconstruct the functional form\n",
    "# using e.g. KDE?\n",
    "prior_samples = sample_prior[MODEL]\n",
    "\n",
    "# Just use default priors??\n",
    "bilby_priors = bilby.gw.prior.BBHPriorDict()"
   ]
  },
  {
   "cell_type": "markdown",
   "id": "eb2b6c3c-91ed-453f-aa89-d29dd0e5e905",
   "metadata": {},
   "source": [
    "#### 3. Model"
   ]
  },
  {
   "cell_type": "code",
   "execution_count": null,
   "id": "29bb58b7-07f9-4930-9ee2-2f45bb9eab59",
   "metadata": {},
   "outputs": [],
   "source": [
    "# Create a waveform generator (uses lal model\n",
    "waveform_generator = bilby.gw.WaveformGenerator(\n",
    "    frequency_domain_source_model=bilby.gw.source.lal_binary_black_hole,\n",
    "    parameter_conversion=bilby.gw.conversion.convert_to_lal_binary_black_hole_parameters,\n",
    "    waveform_arguments={\n",
    "        \"waveform_approximant\": MODEL,\n",
    "        \"reference_frequency\": 50,\n",
    "    },\n",
    ")"
   ]
  },
  {
   "cell_type": "markdown",
   "id": "2e0c8fbf-6225-4267-8dbe-2df7682c0802",
   "metadata": {},
   "source": [
    "#### 4. Likelhood"
   ]
  },
  {
   "cell_type": "code",
   "execution_count": null,
   "id": "a392eb28-e6b1-41d7-b586-7bccf63d884c",
   "metadata": {},
   "outputs": [],
   "source": [
    "# Just a standard likelihood given our data and priors\n",
    "likelihood = bilby.gw.likelihood.GravitationalWaveTransient(\n",
    "    ifo_list,\n",
    "    waveform_generator,\n",
    "    priors=bilby_priors,\n",
    "    time_marginalization=True,\n",
    "    phase_marginalization=False,\n",
    "    distance_marginalization=True,\n",
    ")"
   ]
  }
 ],
 "metadata": {
  "kernelspec": {
   "display_name": "Python 3 (ipykernel)",
   "language": "python",
   "name": "python3"
  },
  "language_info": {
   "codemirror_mode": {
    "name": "ipython",
    "version": 3
   },
   "file_extension": ".py",
   "mimetype": "text/x-python",
   "name": "python",
   "nbconvert_exporter": "python",
   "pygments_lexer": "ipython3",
   "version": "3.12.3"
  }
 },
 "nbformat": 4,
 "nbformat_minor": 5
}
