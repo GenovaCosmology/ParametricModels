{
 "cells": [
  {
   "cell_type": "code",
   "execution_count": null,
   "id": "c5dd3ea4",
   "metadata": {},
   "outputs": [],
   "source": [
    "# initial imports:\n",
    "import sys, os\n",
    "os.environ['TF_USE_LEGACY_KERAS'] = '1'  # needed for tensorflow KERAS compatibility\n",
    "os.environ['DISPLAY'] = 'inline'  # hack to get getdist working\n",
    "import matplotlib.pyplot as plt\n",
    "import numpy as np\n",
    "\n",
    "# tensiometer local imports:\n",
    "here = os.path.dirname(os.getcwd())\n",
    "tensiometer_path = os.path.join(here, 'tensiometer')\n",
    "sys.path.append(tensiometer_path)\n",
    "\n",
    "import tensiometer\n",
    "print('Tensiometer version:', tensiometer.__version__)\n",
    "print('Tensiometer path:', tensiometer.__path__)\n",
    "\n",
    "from cobaya import load_samples\n",
    "from cobaya.model import get_model\n",
    "import yaml\n",
    "from getdist import plots"
   ]
  },
  {
   "cell_type": "markdown",
   "id": "6f23ebc6",
   "metadata": {},
   "source": [
    "## Load the chains"
   ]
  },
  {
   "cell_type": "code",
   "execution_count": null,
   "id": "86967826",
   "metadata": {},
   "outputs": [],
   "source": [
    "# chains paths:\n",
    "chains_dir = os.path.join('chains')\n",
    "\n",
    "# getdist settings:\n",
    "getdist_settings = {\n",
    "    'smooth_scale_1D': 0.3,\n",
    "    'boundary_correction_order': 1,\n",
    "    'mult_bias_correction_order': 1,\n",
    "    'smooth_scale_2D': 0.3,\n",
    "    }"
   ]
  },
  {
   "cell_type": "markdown",
   "id": "67dd54fd",
   "metadata": {},
   "source": [
    "### Planck"
   ]
  },
  {
   "cell_type": "code",
   "execution_count": null,
   "id": "09d993e4",
   "metadata": {},
   "outputs": [],
   "source": [
    "planck = '01p2_w0wa_CMB_PlanckTTTEEE'\n",
    "chain_planck = load_samples(os.path.join(chains_dir, planck), skip=0.3, to_getdist=True)\n",
    "chain_planck.label = 'Planck TTTEEE'\n",
    "chain_planck.updateSettings(getdist_settings)\n",
    "chain_planck.updateBaseStatistics()\n",
    "chain_planck.getConvergeTests()\n",
    "print(chain_planck.label+': R =', round(chain_planck.GelmanRubin, 4))\n",
    "#chain_planck.getParamNames().list()"
   ]
  },
  {
   "cell_type": "markdown",
   "id": "2dc1c0cf",
   "metadata": {},
   "source": [
    "### ACT"
   ]
  },
  {
   "cell_type": "code",
   "execution_count": null,
   "id": "25f77036",
   "metadata": {},
   "outputs": [],
   "source": [
    "act = '01p3_w0wa_CMB_ACTTTTEEE'\n",
    "chain_act = load_samples(os.path.join(chains_dir, act), skip=0.3, to_getdist=True)\n",
    "chain_act.label = 'ACT TTTEEE'\n",
    "chain_act.updateSettings(getdist_settings)\n",
    "chain_act.updateBaseStatistics()\n",
    "chain_act.getConvergeTests()\n",
    "print(chain_act.label+': R =', round(chain_act.GelmanRubin, 4))\n",
    "#chain_act.getParamNames().list()"
   ]
  },
  {
   "cell_type": "markdown",
   "id": "b0acd1b8",
   "metadata": {},
   "source": [
    "### CMB $_{all}$"
   ]
  },
  {
   "cell_type": "code",
   "execution_count": null,
   "id": "8a09511e",
   "metadata": {},
   "outputs": [],
   "source": [
    "cmb_all = '02p2_w0wa_CMB_all'\n",
    "chain_cmb_all = load_samples(os.path.join(chains_dir, cmb_all), skip=0.3, to_getdist=True)\n",
    "chain_cmb_all.label = 'Planck TTTEEE + ACT TTTEEE + lowl'\n",
    "chain_cmb_all.updateSettings(getdist_settings)\n",
    "chain_cmb_all.updateBaseStatistics()\n",
    "chain_cmb_all.getConvergeTests()\n",
    "print(chain_cmb_all.label+': R =', round(chain_cmb_all.GelmanRubin, 4))\n",
    "#chain_cmb_all.getParamNames().list()"
   ]
  },
  {
   "cell_type": "markdown",
   "id": "483fda0c",
   "metadata": {},
   "source": [
    "### CMB + BAO + SN"
   ]
  },
  {
   "cell_type": "code",
   "execution_count": null,
   "id": "c84010b3",
   "metadata": {},
   "outputs": [],
   "source": [
    "cmb_bao_sn = '04p1_w0wa_CMB_BAO_SN'\n",
    "chain_cmb_bao_sn = load_samples(os.path.join(chains_dir, cmb_bao_sn), skip=0.3, to_getdist=True)\n",
    "chain_cmb_bao_sn.label = 'CMB + BAO + SN'\n",
    "chain_cmb_bao_sn.updateSettings(getdist_settings)\n",
    "chain_cmb_bao_sn.updateBaseStatistics()\n",
    "chain_cmb_bao_sn.getConvergeTests()\n",
    "print(chain_cmb_bao_sn.label+': R =', round(chain_cmb_bao_sn.GelmanRubin, 4))\n",
    "#chain_cmb_bao_sn.getParamNames().list()"
   ]
  },
  {
   "cell_type": "markdown",
   "id": "715b7ed7",
   "metadata": {},
   "source": [
    "**Rebuild the model**"
   ]
  },
  {
   "cell_type": "code",
   "execution_count": null,
   "id": "3e8f298d",
   "metadata": {},
   "outputs": [],
   "source": [
    "names = [planck, act, cmb_all, cmb_bao_sn]\n",
    "\n",
    "# define the path to the YAML parameters file:\n",
    "for name in names:\n",
    "    yaml_params = os.path.join(chains_dir, name + '.input.yaml')\n",
    "    # load the parameters from the YAML file:\n",
    "    with open(yaml_params, 'r') as f:\n",
    "        params_dict = yaml.safe_load(f)\n",
    "    # remove the 'path' key from the 'camb' dictionary if it exists:\n",
    "    if 'path' in params_dict.get('theory', {}).get('camb', {}):\n",
    "        del params_dict['theory']['camb']['path']\n",
    "    if 'recombination_model' in params_dict.get('theory', {}).get('camb', {}).get('extra_args', {}):\n",
    "        del params_dict['theory']['camb']['extra_args']['recombination_model']\n",
    "\n",
    "    # build the model:\n",
    "    model = get_model(params_dict)"
   ]
  },
  {
   "cell_type": "markdown",
   "id": "90e99d02",
   "metadata": {},
   "source": [
    "## Triangle plot"
   ]
  },
  {
   "cell_type": "code",
   "execution_count": null,
   "id": "65d8c279",
   "metadata": {},
   "outputs": [],
   "source": [
    "params = ['H0', 'ombh2', 'omch2', 'As', 'w', 'wa']\n",
    "g = plots.getSubplotPlotter()\n",
    "g.triangle_plot([chain_planck, chain_act, chain_cmb_all, chain_cmb_bao_sn],\n",
    "                params=params,\n",
    "                filled=True, legend=True, legend_loc='upper right',\n",
    "                colors=['gold', 'limegreen', 'deepskyblue', 'mediumorchid'],\n",
    "                contour_colors=['gold', 'limegreen', 'deepskyblue', 'mediumorchid'],\n",
    ")"
   ]
  },
  {
   "cell_type": "markdown",
   "id": "1205b4f0",
   "metadata": {},
   "source": [
    "**Covariance**"
   ]
  },
  {
   "cell_type": "code",
   "execution_count": null,
   "id": "3ad18606",
   "metadata": {},
   "outputs": [],
   "source": [
    "cov = np.loadtxt(\"chains/01p2_w0wa_CMB_PlanckTTTEEE.covmat\")\n",
    "print(cov)\n",
    "dim = len(cov)\n",
    "print(dim)"
   ]
  }
 ],
 "metadata": {
  "kernelspec": {
   "display_name": "mlg",
   "language": "python",
   "name": "python3"
  },
  "language_info": {
   "codemirror_mode": {
    "name": "ipython",
    "version": 3
   },
   "file_extension": ".py",
   "mimetype": "text/x-python",
   "name": "python",
   "nbconvert_exporter": "python",
   "pygments_lexer": "ipython3",
   "version": "3.9.7"
  }
 },
 "nbformat": 4,
 "nbformat_minor": 5
}
