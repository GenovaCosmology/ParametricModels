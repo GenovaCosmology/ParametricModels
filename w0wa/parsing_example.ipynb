{
 "cells": [
  {
   "cell_type": "code",
   "execution_count": 1,
   "id": "5f529357",
   "metadata": {},
   "outputs": [],
   "source": [
    "# install camb\n",
    "# install getdist\n",
    "# install cobaya\n",
    "# install bilby"
   ]
  },
  {
   "cell_type": "code",
   "execution_count": 2,
   "id": "c5dd3ea4",
   "metadata": {},
   "outputs": [
    {
     "name": "stdout",
     "output_type": "stream",
     "text": [
      "Tensiometer version: 1.0.2\n",
      "Tensiometer path: ['/global/cfs/cdirs/desicollab/users/lauracdp/genova_school/ParametricModels/tensiometer/tensiometer']\n"
     ]
    }
   ],
   "source": [
    "# initial imports:\n",
    "import sys, os\n",
    "\n",
    "# tensiometer local imports:\n",
    "here = os.path.dirname(os.getcwd())\n",
    "tensiometer_path = os.path.join(here, 'tensiometer')\n",
    "sys.path.append(tensiometer_path)\n",
    "\n",
    "import tensiometer\n",
    "print('Tensiometer version:', tensiometer.__version__)\n",
    "print('Tensiometer path:', tensiometer.__path__)"
   ]
  },
  {
   "cell_type": "code",
   "execution_count": 3,
   "id": "86967826",
   "metadata": {},
   "outputs": [],
   "source": [
    "# chains paths:\n",
    "\n",
    "chains_dir = os.path.join('chains')"
   ]
  },
  {
   "cell_type": "code",
   "execution_count": 4,
   "id": "8d0059c9",
   "metadata": {},
   "outputs": [],
   "source": [
    "# getdist settings:\n",
    "\n",
    "getdist_settings = {\n",
    "    'smooth_scale_1D': 0.3,\n",
    "    'boundary_correction_order': 1,\n",
    "    'mult_bias_correction_order': 1,\n",
    "    'smooth_scale_2D': 0.3,\n",
    "    }"
   ]
  },
  {
   "cell_type": "code",
   "execution_count": 5,
   "id": "c84010b3",
   "metadata": {},
   "outputs": [
    {
     "name": "stdout",
     "output_type": "stream",
     "text": [
      "04p1_w0wa_CMB_BAO_SN: R = 0.0088\n"
     ]
    }
   ],
   "source": [
    "# import chain\n",
    "from cobaya import load_samples\n",
    "\n",
    "name = '04p1_w0wa_CMB_BAO_SN'\n",
    "chain = load_samples(os.path.join(chains_dir, name), skip=0.3, to_getdist=True)\n",
    "chain.label = name\n",
    "chain.updateSettings(getdist_settings)\n",
    "chain.updateBaseStatistics()\n",
    "chain.getConvergeTests()\n",
    "print(chain.label+': R =', round(chain.GelmanRubin, 4))"
   ]
  },
  {
   "cell_type": "code",
   "execution_count": 6,
   "id": "3e8f298d",
   "metadata": {},
   "outputs": [
    {
     "name": "stdout",
     "output_type": "stream",
     "text": [
      "[model] *WARNING* Ignored blocks/options: ['sampler', 'output']\n",
      "[camb] `camb` module loaded successfully from /global/u1/l/lauracdp/.conda/envs/cobaya_env/lib/python3.10/site-packages/camb\n"
     ]
    },
    {
     "name": "stderr",
     "output_type": "stream",
     "text": [
      "/global/homes/l/lauracdp/.conda/envs/cobaya_env/lib/python3.10/site-packages/sacc/sacc.py:935: UserWarning: The FITS format without the 'sacc_ordering' column is deprecated. Assuming data rows are in the correct order as it was before version 1.0.\n",
      "  warnings.warn(\n"
     ]
    },
    {
     "name": "stdout",
     "output_type": "stream",
     "text": [
      "[planck_2020_lollipop.lowleb] Initialized!\n",
      "[bao.desi_dr2.desi_bao_all] Initialized.\n"
     ]
    }
   ],
   "source": [
    "# rebuild the model:\n",
    "from cobaya.model import get_model\n",
    "import yaml\n",
    "\n",
    "# define the path to the YAML parameters file:\n",
    "yaml_params = os.path.join(chains_dir, name + '.input.yaml')\n",
    "# load the parameters from the YAML file:\n",
    "with open(yaml_params, 'r') as f:\n",
    "    params_dict = yaml.safe_load(f)\n",
    "# remove the 'path' key from the 'camb' dictionary if it exists:\n",
    "if 'path' in params_dict.get('theory', {}).get('camb', {}):\n",
    "    del params_dict['theory']['camb']['path']\n",
    "if 'recombination_model' in params_dict.get('theory', {}).get('camb', {}).get('extra_args', {}):\n",
    "    del params_dict['theory']['camb']['extra_args']['recombination_model']\n",
    "\n",
    "# build the model:\n",
    "model = get_model(params_dict)"
   ]
  },
  {
   "cell_type": "code",
   "execution_count": null,
   "id": "65d8c279",
   "metadata": {},
   "outputs": [],
   "source": []
  }
 ],
 "metadata": {
  "kernelspec": {
   "display_name": "cobaya_env",
   "language": "python",
   "name": "cobaya_env"
  },
  "language_info": {
   "codemirror_mode": {
    "name": "ipython",
    "version": 3
   },
   "file_extension": ".py",
   "mimetype": "text/x-python",
   "name": "python",
   "nbconvert_exporter": "python",
   "pygments_lexer": "ipython3",
   "version": "3.10.18"
  }
 },
 "nbformat": 4,
 "nbformat_minor": 5
}
